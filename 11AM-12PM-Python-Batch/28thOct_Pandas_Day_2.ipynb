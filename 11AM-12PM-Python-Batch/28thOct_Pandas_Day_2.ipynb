{
 "cells": [
  {
   "cell_type": "code",
   "execution_count": 2,
   "id": "29d12653-a537-4a13-bc53-aa5f71a8ebba",
   "metadata": {},
   "outputs": [],
   "source": [
    "# Creating a Dummy Dataset\n",
    "data = {\n",
    "    'Emp_ID':[*range(101,111)],\n",
    "    'Emp_Name':['Raj','Rahul','Mahi','Mohan','Anu','Riya','Priya','Anuj','Ram','Shyam'],\n",
    "    'Emp_Sal':[34456,78665,74635,79876,23456,75635,23476,57377,47557,65435],\n",
    "    'Emp_Add':['Noida','Delhi','GZB','Hapur','Noida','Delhi','GZB','Hapur','Noida','Delhi']\n",
    "}"
   ]
  },
  {
   "cell_type": "code",
   "execution_count": 4,
   "id": "72699407-cb82-4201-a25a-191da0aa234e",
   "metadata": {},
   "outputs": [],
   "source": [
    "import pandas as pd"
   ]
  },
  {
   "cell_type": "code",
   "execution_count": 5,
   "id": "2c736f25-bd24-4040-bf64-e8b8877a79fd",
   "metadata": {},
   "outputs": [],
   "source": [
    "df = pd.DataFrame(data)"
   ]
  },
  {
   "cell_type": "code",
   "execution_count": 6,
   "id": "9c0b2201-8caa-4942-bdfe-1248dece9647",
   "metadata": {},
   "outputs": [
    {
     "data": {
      "text/html": [
       "<div>\n",
       "<style scoped>\n",
       "    .dataframe tbody tr th:only-of-type {\n",
       "        vertical-align: middle;\n",
       "    }\n",
       "\n",
       "    .dataframe tbody tr th {\n",
       "        vertical-align: top;\n",
       "    }\n",
       "\n",
       "    .dataframe thead th {\n",
       "        text-align: right;\n",
       "    }\n",
       "</style>\n",
       "<table border=\"1\" class=\"dataframe\">\n",
       "  <thead>\n",
       "    <tr style=\"text-align: right;\">\n",
       "      <th></th>\n",
       "      <th>Emp_ID</th>\n",
       "      <th>Emp_Name</th>\n",
       "      <th>Emp_Sal</th>\n",
       "      <th>Emp_Add</th>\n",
       "    </tr>\n",
       "  </thead>\n",
       "  <tbody>\n",
       "    <tr>\n",
       "      <th>0</th>\n",
       "      <td>101</td>\n",
       "      <td>Raj</td>\n",
       "      <td>34456</td>\n",
       "      <td>Noida</td>\n",
       "    </tr>\n",
       "    <tr>\n",
       "      <th>1</th>\n",
       "      <td>102</td>\n",
       "      <td>Rahul</td>\n",
       "      <td>78665</td>\n",
       "      <td>Delhi</td>\n",
       "    </tr>\n",
       "    <tr>\n",
       "      <th>2</th>\n",
       "      <td>103</td>\n",
       "      <td>Mahi</td>\n",
       "      <td>74635</td>\n",
       "      <td>GZB</td>\n",
       "    </tr>\n",
       "    <tr>\n",
       "      <th>3</th>\n",
       "      <td>104</td>\n",
       "      <td>Mohan</td>\n",
       "      <td>79876</td>\n",
       "      <td>Hapur</td>\n",
       "    </tr>\n",
       "    <tr>\n",
       "      <th>4</th>\n",
       "      <td>105</td>\n",
       "      <td>Anu</td>\n",
       "      <td>23456</td>\n",
       "      <td>Noida</td>\n",
       "    </tr>\n",
       "    <tr>\n",
       "      <th>5</th>\n",
       "      <td>106</td>\n",
       "      <td>Riya</td>\n",
       "      <td>75635</td>\n",
       "      <td>Delhi</td>\n",
       "    </tr>\n",
       "    <tr>\n",
       "      <th>6</th>\n",
       "      <td>107</td>\n",
       "      <td>Priya</td>\n",
       "      <td>23476</td>\n",
       "      <td>GZB</td>\n",
       "    </tr>\n",
       "    <tr>\n",
       "      <th>7</th>\n",
       "      <td>108</td>\n",
       "      <td>Anuj</td>\n",
       "      <td>57377</td>\n",
       "      <td>Hapur</td>\n",
       "    </tr>\n",
       "    <tr>\n",
       "      <th>8</th>\n",
       "      <td>109</td>\n",
       "      <td>Ram</td>\n",
       "      <td>47557</td>\n",
       "      <td>Noida</td>\n",
       "    </tr>\n",
       "    <tr>\n",
       "      <th>9</th>\n",
       "      <td>110</td>\n",
       "      <td>Shyam</td>\n",
       "      <td>65435</td>\n",
       "      <td>Delhi</td>\n",
       "    </tr>\n",
       "  </tbody>\n",
       "</table>\n",
       "</div>"
      ],
      "text/plain": [
       "   Emp_ID Emp_Name  Emp_Sal Emp_Add\n",
       "0     101      Raj    34456   Noida\n",
       "1     102    Rahul    78665   Delhi\n",
       "2     103     Mahi    74635     GZB\n",
       "3     104    Mohan    79876   Hapur\n",
       "4     105      Anu    23456   Noida\n",
       "5     106     Riya    75635   Delhi\n",
       "6     107    Priya    23476     GZB\n",
       "7     108     Anuj    57377   Hapur\n",
       "8     109      Ram    47557   Noida\n",
       "9     110    Shyam    65435   Delhi"
      ]
     },
     "execution_count": 6,
     "metadata": {},
     "output_type": "execute_result"
    }
   ],
   "source": [
    "df"
   ]
  },
  {
   "cell_type": "code",
   "execution_count": 7,
   "id": "5362346b-305f-4fea-8179-568c9eec37d3",
   "metadata": {},
   "outputs": [
    {
     "data": {
      "text/html": [
       "<div>\n",
       "<style scoped>\n",
       "    .dataframe tbody tr th:only-of-type {\n",
       "        vertical-align: middle;\n",
       "    }\n",
       "\n",
       "    .dataframe tbody tr th {\n",
       "        vertical-align: top;\n",
       "    }\n",
       "\n",
       "    .dataframe thead th {\n",
       "        text-align: right;\n",
       "    }\n",
       "</style>\n",
       "<table border=\"1\" class=\"dataframe\">\n",
       "  <thead>\n",
       "    <tr style=\"text-align: right;\">\n",
       "      <th></th>\n",
       "      <th>Emp_ID</th>\n",
       "      <th>Emp_Name</th>\n",
       "      <th>Emp_Sal</th>\n",
       "      <th>Emp_Add</th>\n",
       "    </tr>\n",
       "  </thead>\n",
       "  <tbody>\n",
       "    <tr>\n",
       "      <th>0</th>\n",
       "      <td>101</td>\n",
       "      <td>Raj</td>\n",
       "      <td>34456</td>\n",
       "      <td>Noida</td>\n",
       "    </tr>\n",
       "    <tr>\n",
       "      <th>1</th>\n",
       "      <td>102</td>\n",
       "      <td>Rahul</td>\n",
       "      <td>78665</td>\n",
       "      <td>Delhi</td>\n",
       "    </tr>\n",
       "    <tr>\n",
       "      <th>2</th>\n",
       "      <td>103</td>\n",
       "      <td>Mahi</td>\n",
       "      <td>74635</td>\n",
       "      <td>GZB</td>\n",
       "    </tr>\n",
       "    <tr>\n",
       "      <th>3</th>\n",
       "      <td>104</td>\n",
       "      <td>Mohan</td>\n",
       "      <td>79876</td>\n",
       "      <td>Hapur</td>\n",
       "    </tr>\n",
       "    <tr>\n",
       "      <th>4</th>\n",
       "      <td>105</td>\n",
       "      <td>Anu</td>\n",
       "      <td>23456</td>\n",
       "      <td>Noida</td>\n",
       "    </tr>\n",
       "  </tbody>\n",
       "</table>\n",
       "</div>"
      ],
      "text/plain": [
       "   Emp_ID Emp_Name  Emp_Sal Emp_Add\n",
       "0     101      Raj    34456   Noida\n",
       "1     102    Rahul    78665   Delhi\n",
       "2     103     Mahi    74635     GZB\n",
       "3     104    Mohan    79876   Hapur\n",
       "4     105      Anu    23456   Noida"
      ]
     },
     "execution_count": 7,
     "metadata": {},
     "output_type": "execute_result"
    }
   ],
   "source": [
    "df.head()"
   ]
  },
  {
   "cell_type": "code",
   "execution_count": 9,
   "id": "96a807c5-b01c-4401-a6d1-39f2ff095550",
   "metadata": {},
   "outputs": [
    {
     "data": {
      "text/html": [
       "<div>\n",
       "<style scoped>\n",
       "    .dataframe tbody tr th:only-of-type {\n",
       "        vertical-align: middle;\n",
       "    }\n",
       "\n",
       "    .dataframe tbody tr th {\n",
       "        vertical-align: top;\n",
       "    }\n",
       "\n",
       "    .dataframe thead th {\n",
       "        text-align: right;\n",
       "    }\n",
       "</style>\n",
       "<table border=\"1\" class=\"dataframe\">\n",
       "  <thead>\n",
       "    <tr style=\"text-align: right;\">\n",
       "      <th></th>\n",
       "      <th>Emp_ID</th>\n",
       "      <th>Emp_Name</th>\n",
       "      <th>Emp_Sal</th>\n",
       "      <th>Emp_Add</th>\n",
       "    </tr>\n",
       "  </thead>\n",
       "  <tbody>\n",
       "    <tr>\n",
       "      <th>0</th>\n",
       "      <td>101</td>\n",
       "      <td>Raj</td>\n",
       "      <td>34456</td>\n",
       "      <td>Noida</td>\n",
       "    </tr>\n",
       "    <tr>\n",
       "      <th>1</th>\n",
       "      <td>102</td>\n",
       "      <td>Rahul</td>\n",
       "      <td>78665</td>\n",
       "      <td>Delhi</td>\n",
       "    </tr>\n",
       "  </tbody>\n",
       "</table>\n",
       "</div>"
      ],
      "text/plain": [
       "   Emp_ID Emp_Name  Emp_Sal Emp_Add\n",
       "0     101      Raj    34456   Noida\n",
       "1     102    Rahul    78665   Delhi"
      ]
     },
     "execution_count": 9,
     "metadata": {},
     "output_type": "execute_result"
    }
   ],
   "source": [
    "df.head(2)"
   ]
  },
  {
   "cell_type": "code",
   "execution_count": 10,
   "id": "f3f2b4a6-9d1f-4816-8cd8-c3215c75e5b7",
   "metadata": {},
   "outputs": [
    {
     "data": {
      "text/html": [
       "<div>\n",
       "<style scoped>\n",
       "    .dataframe tbody tr th:only-of-type {\n",
       "        vertical-align: middle;\n",
       "    }\n",
       "\n",
       "    .dataframe tbody tr th {\n",
       "        vertical-align: top;\n",
       "    }\n",
       "\n",
       "    .dataframe thead th {\n",
       "        text-align: right;\n",
       "    }\n",
       "</style>\n",
       "<table border=\"1\" class=\"dataframe\">\n",
       "  <thead>\n",
       "    <tr style=\"text-align: right;\">\n",
       "      <th></th>\n",
       "      <th>Emp_ID</th>\n",
       "      <th>Emp_Name</th>\n",
       "      <th>Emp_Sal</th>\n",
       "      <th>Emp_Add</th>\n",
       "    </tr>\n",
       "  </thead>\n",
       "  <tbody>\n",
       "    <tr>\n",
       "      <th>5</th>\n",
       "      <td>106</td>\n",
       "      <td>Riya</td>\n",
       "      <td>75635</td>\n",
       "      <td>Delhi</td>\n",
       "    </tr>\n",
       "    <tr>\n",
       "      <th>6</th>\n",
       "      <td>107</td>\n",
       "      <td>Priya</td>\n",
       "      <td>23476</td>\n",
       "      <td>GZB</td>\n",
       "    </tr>\n",
       "    <tr>\n",
       "      <th>7</th>\n",
       "      <td>108</td>\n",
       "      <td>Anuj</td>\n",
       "      <td>57377</td>\n",
       "      <td>Hapur</td>\n",
       "    </tr>\n",
       "    <tr>\n",
       "      <th>8</th>\n",
       "      <td>109</td>\n",
       "      <td>Ram</td>\n",
       "      <td>47557</td>\n",
       "      <td>Noida</td>\n",
       "    </tr>\n",
       "    <tr>\n",
       "      <th>9</th>\n",
       "      <td>110</td>\n",
       "      <td>Shyam</td>\n",
       "      <td>65435</td>\n",
       "      <td>Delhi</td>\n",
       "    </tr>\n",
       "  </tbody>\n",
       "</table>\n",
       "</div>"
      ],
      "text/plain": [
       "   Emp_ID Emp_Name  Emp_Sal Emp_Add\n",
       "5     106     Riya    75635   Delhi\n",
       "6     107    Priya    23476     GZB\n",
       "7     108     Anuj    57377   Hapur\n",
       "8     109      Ram    47557   Noida\n",
       "9     110    Shyam    65435   Delhi"
      ]
     },
     "execution_count": 10,
     "metadata": {},
     "output_type": "execute_result"
    }
   ],
   "source": [
    "df.tail()"
   ]
  },
  {
   "cell_type": "code",
   "execution_count": 11,
   "id": "7cdcaba8-381a-4df6-9874-d9628b8dd9d1",
   "metadata": {},
   "outputs": [
    {
     "data": {
      "text/html": [
       "<div>\n",
       "<style scoped>\n",
       "    .dataframe tbody tr th:only-of-type {\n",
       "        vertical-align: middle;\n",
       "    }\n",
       "\n",
       "    .dataframe tbody tr th {\n",
       "        vertical-align: top;\n",
       "    }\n",
       "\n",
       "    .dataframe thead th {\n",
       "        text-align: right;\n",
       "    }\n",
       "</style>\n",
       "<table border=\"1\" class=\"dataframe\">\n",
       "  <thead>\n",
       "    <tr style=\"text-align: right;\">\n",
       "      <th></th>\n",
       "      <th>Emp_ID</th>\n",
       "      <th>Emp_Name</th>\n",
       "      <th>Emp_Sal</th>\n",
       "      <th>Emp_Add</th>\n",
       "    </tr>\n",
       "  </thead>\n",
       "  <tbody>\n",
       "    <tr>\n",
       "      <th>8</th>\n",
       "      <td>109</td>\n",
       "      <td>Ram</td>\n",
       "      <td>47557</td>\n",
       "      <td>Noida</td>\n",
       "    </tr>\n",
       "    <tr>\n",
       "      <th>9</th>\n",
       "      <td>110</td>\n",
       "      <td>Shyam</td>\n",
       "      <td>65435</td>\n",
       "      <td>Delhi</td>\n",
       "    </tr>\n",
       "  </tbody>\n",
       "</table>\n",
       "</div>"
      ],
      "text/plain": [
       "   Emp_ID Emp_Name  Emp_Sal Emp_Add\n",
       "8     109      Ram    47557   Noida\n",
       "9     110    Shyam    65435   Delhi"
      ]
     },
     "execution_count": 11,
     "metadata": {},
     "output_type": "execute_result"
    }
   ],
   "source": [
    "df.tail(2)"
   ]
  },
  {
   "cell_type": "code",
   "execution_count": 12,
   "id": "c6aa258b-6949-48ea-95d1-5fa441363593",
   "metadata": {},
   "outputs": [
    {
     "data": {
      "text/plain": [
       "Index(['Emp_ID', 'Emp_Name', 'Emp_Sal', 'Emp_Add'], dtype='object')"
      ]
     },
     "execution_count": 12,
     "metadata": {},
     "output_type": "execute_result"
    }
   ],
   "source": [
    "df.columns"
   ]
  },
  {
   "cell_type": "code",
   "execution_count": 14,
   "id": "cb668ddd-c748-4b2e-ba0f-67c5bb78386c",
   "metadata": {},
   "outputs": [
    {
     "name": "stdout",
     "output_type": "stream",
     "text": [
      "Emp_ID\n",
      "Emp_Name\n",
      "Emp_Sal\n",
      "Emp_Add\n"
     ]
    }
   ],
   "source": [
    "for col in df.columns:\n",
    "    print(col)"
   ]
  },
  {
   "cell_type": "code",
   "execution_count": 15,
   "id": "c75ad097-abd3-48ab-9bb7-d9455d07e373",
   "metadata": {},
   "outputs": [
    {
     "data": {
      "text/plain": [
       "0    101\n",
       "1    102\n",
       "2    103\n",
       "3    104\n",
       "4    105\n",
       "5    106\n",
       "6    107\n",
       "7    108\n",
       "8    109\n",
       "9    110\n",
       "Name: Emp_ID, dtype: int64"
      ]
     },
     "execution_count": 15,
     "metadata": {},
     "output_type": "execute_result"
    }
   ],
   "source": [
    "df.Emp_ID"
   ]
  },
  {
   "cell_type": "code",
   "execution_count": 17,
   "id": "91bc7502-8e64-489a-901e-a5d5cacdd595",
   "metadata": {},
   "outputs": [
    {
     "data": {
      "text/plain": [
       "0      Raj\n",
       "1    Rahul\n",
       "2     Mahi\n",
       "3    Mohan\n",
       "4      Anu\n",
       "5     Riya\n",
       "6    Priya\n",
       "7     Anuj\n",
       "8      Ram\n",
       "9    Shyam\n",
       "Name: Emp_Name, dtype: object"
      ]
     },
     "execution_count": 17,
     "metadata": {},
     "output_type": "execute_result"
    }
   ],
   "source": [
    "df['Emp_Name']"
   ]
  },
  {
   "cell_type": "code",
   "execution_count": 19,
   "id": "781d8505-5f14-43dd-aaf2-72d45d361d2a",
   "metadata": {},
   "outputs": [
    {
     "name": "stdout",
     "output_type": "stream",
     "text": [
      "Total Salary :  560568\n"
     ]
    }
   ],
   "source": [
    "print(\"Total Salary : \",df.Emp_Sal.sum())"
   ]
  },
  {
   "cell_type": "code",
   "execution_count": 20,
   "id": "734292ca-430e-4fbd-bf6d-fce1edbd4bec",
   "metadata": {},
   "outputs": [
    {
     "name": "stdout",
     "output_type": "stream",
     "text": [
      "Average Salary :  56056.8\n"
     ]
    }
   ],
   "source": [
    "print(\"Average Salary : \",df.Emp_Sal.sum()/len(df))"
   ]
  },
  {
   "cell_type": "code",
   "execution_count": 22,
   "id": "b960b04e-06e6-44f0-b9c5-cdb0b63d44fc",
   "metadata": {},
   "outputs": [
    {
     "data": {
      "text/plain": [
       "0    Delhi\n",
       "1    Noida\n",
       "Name: Emp_Add, dtype: object"
      ]
     },
     "execution_count": 22,
     "metadata": {},
     "output_type": "execute_result"
    }
   ],
   "source": [
    "# Most Repeating Value\n",
    "df['Emp_Add'].mode()"
   ]
  },
  {
   "cell_type": "code",
   "execution_count": 24,
   "id": "73bd47ea-2c10-4aa7-8cab-9587296ebb30",
   "metadata": {},
   "outputs": [
    {
     "name": "stdout",
     "output_type": "stream",
     "text": [
      "Average Salary :  56056.8\n"
     ]
    }
   ],
   "source": [
    "# mean => Average\n",
    "print(\"Average Salary : \",df.Emp_Sal.mean())"
   ]
  },
  {
   "cell_type": "code",
   "execution_count": 25,
   "id": "38c6cc4f-2e2a-49ee-bbf2-fc8dd3701b07",
   "metadata": {},
   "outputs": [
    {
     "name": "stdout",
     "output_type": "stream",
     "text": [
      "Middle Salary :  61406.0\n"
     ]
    }
   ],
   "source": [
    "# median => (middle Value)\n",
    "print(\"Middle Salary : \",df.Emp_Sal.median())"
   ]
  },
  {
   "cell_type": "code",
   "execution_count": 29,
   "id": "fb34f116-002d-4395-99ce-41143ad25d7e",
   "metadata": {},
   "outputs": [
    {
     "data": {
      "text/plain": [
       "[23456, 23476, 34456, 47557, 57377, 65435, 74635, 75635, 78665, 79876]"
      ]
     },
     "execution_count": 29,
     "metadata": {},
     "output_type": "execute_result"
    }
   ],
   "source": [
    "sorted(df.Emp_Sal)"
   ]
  },
  {
   "cell_type": "code",
   "execution_count": 32,
   "id": "392b42aa-d1f3-43e7-af74-db78b0204147",
   "metadata": {},
   "outputs": [
    {
     "data": {
      "text/plain": [
       "61406.0"
      ]
     },
     "execution_count": 32,
     "metadata": {},
     "output_type": "execute_result"
    }
   ],
   "source": [
    "# Median if number of value are in even \n",
    "(57377+65435)/2"
   ]
  },
  {
   "cell_type": "code",
   "execution_count": 33,
   "id": "ad0d0eb7-9755-4188-9243-b261572a264c",
   "metadata": {},
   "outputs": [
    {
     "data": {
      "text/plain": [
       "np.float64(22508.753456772716)"
      ]
     },
     "execution_count": 33,
     "metadata": {},
     "output_type": "execute_result"
    }
   ],
   "source": [
    "# standard (stv)\n",
    "df.Emp_Sal.std()"
   ]
  },
  {
   "cell_type": "code",
   "execution_count": 34,
   "id": "da37d62c-0e80-41b1-b351-ce45f706a3af",
   "metadata": {},
   "outputs": [
    {
     "name": "stdout",
     "output_type": "stream",
     "text": [
      "Average Salary :  56056.8\n"
     ]
    }
   ],
   "source": [
    "# mean => Average\n",
    "print(\"Average Salary : \",df.Emp_Sal.mean())"
   ]
  },
  {
   "cell_type": "code",
   "execution_count": 35,
   "id": "5152fc4c-2da0-4f98-84aa-5f819ea8c2a5",
   "metadata": {},
   "outputs": [],
   "source": [
    "import numpy as np"
   ]
  },
  {
   "cell_type": "code",
   "execution_count": 61,
   "id": "2adbf53c-05b4-4623-b36e-d7b039e2fd7b",
   "metadata": {},
   "outputs": [],
   "source": [
    "# Creating a Dummy Dataset\n",
    "data = {\n",
    "    'Emp_ID':[*range(101,111)],\n",
    "    'Emp_Name':['Raj','Rahul','Mahi','Mohan','Anu','Riya',np.nan,'Anuj','Ram','Shyam'],\n",
    "    'Emp_Sal':[34456,78665,74635,np.nan,23456,75635,23476,np.nan,47557,65435],\n",
    "    'Emp_Add':['Noida',np.nan,'GZB','Hapur','Noida','Delhi','GZB','Hapur','Noida','Delhi']\n",
    "}"
   ]
  },
  {
   "cell_type": "code",
   "execution_count": 62,
   "id": "b1c2e654-ac58-4bae-8960-a8fa50691830",
   "metadata": {},
   "outputs": [],
   "source": [
    "df = pd.DataFrame(data)"
   ]
  },
  {
   "cell_type": "code",
   "execution_count": 38,
   "id": "d0ec181b-951b-4b80-a67f-766dd9c69249",
   "metadata": {},
   "outputs": [
    {
     "data": {
      "text/html": [
       "<div>\n",
       "<style scoped>\n",
       "    .dataframe tbody tr th:only-of-type {\n",
       "        vertical-align: middle;\n",
       "    }\n",
       "\n",
       "    .dataframe tbody tr th {\n",
       "        vertical-align: top;\n",
       "    }\n",
       "\n",
       "    .dataframe thead th {\n",
       "        text-align: right;\n",
       "    }\n",
       "</style>\n",
       "<table border=\"1\" class=\"dataframe\">\n",
       "  <thead>\n",
       "    <tr style=\"text-align: right;\">\n",
       "      <th></th>\n",
       "      <th>Emp_ID</th>\n",
       "      <th>Emp_Name</th>\n",
       "      <th>Emp_Sal</th>\n",
       "      <th>Emp_Add</th>\n",
       "    </tr>\n",
       "  </thead>\n",
       "  <tbody>\n",
       "    <tr>\n",
       "      <th>0</th>\n",
       "      <td>101</td>\n",
       "      <td>Raj</td>\n",
       "      <td>34456.0</td>\n",
       "      <td>Noida</td>\n",
       "    </tr>\n",
       "    <tr>\n",
       "      <th>1</th>\n",
       "      <td>102</td>\n",
       "      <td>Rahul</td>\n",
       "      <td>78665.0</td>\n",
       "      <td>NaN</td>\n",
       "    </tr>\n",
       "    <tr>\n",
       "      <th>2</th>\n",
       "      <td>103</td>\n",
       "      <td>Mahi</td>\n",
       "      <td>74635.0</td>\n",
       "      <td>GZB</td>\n",
       "    </tr>\n",
       "    <tr>\n",
       "      <th>3</th>\n",
       "      <td>104</td>\n",
       "      <td>Mohan</td>\n",
       "      <td>NaN</td>\n",
       "      <td>Hapur</td>\n",
       "    </tr>\n",
       "    <tr>\n",
       "      <th>4</th>\n",
       "      <td>105</td>\n",
       "      <td>Anu</td>\n",
       "      <td>23456.0</td>\n",
       "      <td>Noida</td>\n",
       "    </tr>\n",
       "    <tr>\n",
       "      <th>5</th>\n",
       "      <td>106</td>\n",
       "      <td>Riya</td>\n",
       "      <td>75635.0</td>\n",
       "      <td>Delhi</td>\n",
       "    </tr>\n",
       "    <tr>\n",
       "      <th>6</th>\n",
       "      <td>107</td>\n",
       "      <td>NaN</td>\n",
       "      <td>23476.0</td>\n",
       "      <td>GZB</td>\n",
       "    </tr>\n",
       "    <tr>\n",
       "      <th>7</th>\n",
       "      <td>108</td>\n",
       "      <td>Anuj</td>\n",
       "      <td>NaN</td>\n",
       "      <td>Hapur</td>\n",
       "    </tr>\n",
       "    <tr>\n",
       "      <th>8</th>\n",
       "      <td>109</td>\n",
       "      <td>Ram</td>\n",
       "      <td>47557.0</td>\n",
       "      <td>Noida</td>\n",
       "    </tr>\n",
       "    <tr>\n",
       "      <th>9</th>\n",
       "      <td>110</td>\n",
       "      <td>Shyam</td>\n",
       "      <td>65435.0</td>\n",
       "      <td>Delhi</td>\n",
       "    </tr>\n",
       "  </tbody>\n",
       "</table>\n",
       "</div>"
      ],
      "text/plain": [
       "   Emp_ID Emp_Name  Emp_Sal Emp_Add\n",
       "0     101      Raj  34456.0   Noida\n",
       "1     102    Rahul  78665.0     NaN\n",
       "2     103     Mahi  74635.0     GZB\n",
       "3     104    Mohan      NaN   Hapur\n",
       "4     105      Anu  23456.0   Noida\n",
       "5     106     Riya  75635.0   Delhi\n",
       "6     107      NaN  23476.0     GZB\n",
       "7     108     Anuj      NaN   Hapur\n",
       "8     109      Ram  47557.0   Noida\n",
       "9     110    Shyam  65435.0   Delhi"
      ]
     },
     "execution_count": 38,
     "metadata": {},
     "output_type": "execute_result"
    }
   ],
   "source": [
    "df"
   ]
  },
  {
   "cell_type": "code",
   "execution_count": 40,
   "id": "b4cfcab9-9a4b-4b9f-8237-4928dcc10d41",
   "metadata": {},
   "outputs": [
    {
     "data": {
      "text/html": [
       "<div>\n",
       "<style scoped>\n",
       "    .dataframe tbody tr th:only-of-type {\n",
       "        vertical-align: middle;\n",
       "    }\n",
       "\n",
       "    .dataframe tbody tr th {\n",
       "        vertical-align: top;\n",
       "    }\n",
       "\n",
       "    .dataframe thead th {\n",
       "        text-align: right;\n",
       "    }\n",
       "</style>\n",
       "<table border=\"1\" class=\"dataframe\">\n",
       "  <thead>\n",
       "    <tr style=\"text-align: right;\">\n",
       "      <th></th>\n",
       "      <th>Emp_ID</th>\n",
       "      <th>Emp_Name</th>\n",
       "      <th>Emp_Sal</th>\n",
       "      <th>Emp_Add</th>\n",
       "    </tr>\n",
       "  </thead>\n",
       "  <tbody>\n",
       "    <tr>\n",
       "      <th>0</th>\n",
       "      <td>False</td>\n",
       "      <td>False</td>\n",
       "      <td>False</td>\n",
       "      <td>False</td>\n",
       "    </tr>\n",
       "    <tr>\n",
       "      <th>1</th>\n",
       "      <td>False</td>\n",
       "      <td>False</td>\n",
       "      <td>False</td>\n",
       "      <td>True</td>\n",
       "    </tr>\n",
       "    <tr>\n",
       "      <th>2</th>\n",
       "      <td>False</td>\n",
       "      <td>False</td>\n",
       "      <td>False</td>\n",
       "      <td>False</td>\n",
       "    </tr>\n",
       "    <tr>\n",
       "      <th>3</th>\n",
       "      <td>False</td>\n",
       "      <td>False</td>\n",
       "      <td>True</td>\n",
       "      <td>False</td>\n",
       "    </tr>\n",
       "    <tr>\n",
       "      <th>4</th>\n",
       "      <td>False</td>\n",
       "      <td>False</td>\n",
       "      <td>False</td>\n",
       "      <td>False</td>\n",
       "    </tr>\n",
       "    <tr>\n",
       "      <th>5</th>\n",
       "      <td>False</td>\n",
       "      <td>False</td>\n",
       "      <td>False</td>\n",
       "      <td>False</td>\n",
       "    </tr>\n",
       "    <tr>\n",
       "      <th>6</th>\n",
       "      <td>False</td>\n",
       "      <td>True</td>\n",
       "      <td>False</td>\n",
       "      <td>False</td>\n",
       "    </tr>\n",
       "    <tr>\n",
       "      <th>7</th>\n",
       "      <td>False</td>\n",
       "      <td>False</td>\n",
       "      <td>True</td>\n",
       "      <td>False</td>\n",
       "    </tr>\n",
       "    <tr>\n",
       "      <th>8</th>\n",
       "      <td>False</td>\n",
       "      <td>False</td>\n",
       "      <td>False</td>\n",
       "      <td>False</td>\n",
       "    </tr>\n",
       "    <tr>\n",
       "      <th>9</th>\n",
       "      <td>False</td>\n",
       "      <td>False</td>\n",
       "      <td>False</td>\n",
       "      <td>False</td>\n",
       "    </tr>\n",
       "  </tbody>\n",
       "</table>\n",
       "</div>"
      ],
      "text/plain": [
       "   Emp_ID  Emp_Name  Emp_Sal  Emp_Add\n",
       "0   False     False    False    False\n",
       "1   False     False    False     True\n",
       "2   False     False    False    False\n",
       "3   False     False     True    False\n",
       "4   False     False    False    False\n",
       "5   False     False    False    False\n",
       "6   False      True    False    False\n",
       "7   False     False     True    False\n",
       "8   False     False    False    False\n",
       "9   False     False    False    False"
      ]
     },
     "execution_count": 40,
     "metadata": {},
     "output_type": "execute_result"
    }
   ],
   "source": [
    "# Finding Null Values in Dataset\n",
    "df.isnull()"
   ]
  },
  {
   "cell_type": "code",
   "execution_count": 42,
   "id": "db61630c-8f25-4bd3-8400-659cd39aea72",
   "metadata": {},
   "outputs": [
    {
     "data": {
      "text/plain": [
       "Emp_ID      0\n",
       "Emp_Name    1\n",
       "Emp_Sal     2\n",
       "Emp_Add     1\n",
       "dtype: int64"
      ]
     },
     "execution_count": 42,
     "metadata": {},
     "output_type": "execute_result"
    }
   ],
   "source": [
    "# total null values by column names\n",
    "df.isnull().sum()"
   ]
  },
  {
   "cell_type": "code",
   "execution_count": 43,
   "id": "f9c9cb83-4790-4c11-bbd6-bf2f555a2b0f",
   "metadata": {},
   "outputs": [
    {
     "data": {
      "text/plain": [
       "np.int64(4)"
      ]
     },
     "execution_count": 43,
     "metadata": {},
     "output_type": "execute_result"
    }
   ],
   "source": [
    "# total null values in a dataset\n",
    "df.isnull().sum().sum()"
   ]
  },
  {
   "cell_type": "code",
   "execution_count": 48,
   "id": "a5562b30-fee7-4345-bba9-127f422b9fee",
   "metadata": {},
   "outputs": [
    {
     "name": "stdout",
     "output_type": "stream",
     "text": [
      "Shape  (10, 4)\n",
      "Total Rows : 10\n",
      "Total Data Points : 40\n"
     ]
    }
   ],
   "source": [
    "# Shape of the dataset (rows,columns)\n",
    "print(\"Shape \" ,df.shape)\n",
    "print(\"Total Rows :\",df.shape[0])\n",
    "print(\"Total Data Points :\",df.shape[0]*df.shape[1])"
   ]
  },
  {
   "cell_type": "code",
   "execution_count": 54,
   "id": "027a14d4-3d5f-42c3-b16f-9c8ef164a2cd",
   "metadata": {},
   "outputs": [
    {
     "name": "stdout",
     "output_type": "stream",
     "text": [
      "Missing Data %Age : 10.0 %\n"
     ]
    }
   ],
   "source": [
    "# Missing %age of data in dataset (in terms of datapoints)\n",
    "print(\"Missing Data %Age :\",df.isnull().sum().sum()/(df.shape[1]*df.shape[0])*100,\"%\")"
   ]
  },
  {
   "cell_type": "code",
   "execution_count": 55,
   "id": "5f05210a-3078-4077-939f-cb236896eb3f",
   "metadata": {},
   "outputs": [
    {
     "data": {
      "text/html": [
       "<div>\n",
       "<style scoped>\n",
       "    .dataframe tbody tr th:only-of-type {\n",
       "        vertical-align: middle;\n",
       "    }\n",
       "\n",
       "    .dataframe tbody tr th {\n",
       "        vertical-align: top;\n",
       "    }\n",
       "\n",
       "    .dataframe thead th {\n",
       "        text-align: right;\n",
       "    }\n",
       "</style>\n",
       "<table border=\"1\" class=\"dataframe\">\n",
       "  <thead>\n",
       "    <tr style=\"text-align: right;\">\n",
       "      <th></th>\n",
       "      <th>Emp_ID</th>\n",
       "      <th>Emp_Name</th>\n",
       "      <th>Emp_Sal</th>\n",
       "      <th>Emp_Add</th>\n",
       "    </tr>\n",
       "  </thead>\n",
       "  <tbody>\n",
       "    <tr>\n",
       "      <th>0</th>\n",
       "      <td>101</td>\n",
       "      <td>Raj</td>\n",
       "      <td>34456.0</td>\n",
       "      <td>Noida</td>\n",
       "    </tr>\n",
       "    <tr>\n",
       "      <th>1</th>\n",
       "      <td>102</td>\n",
       "      <td>Rahul</td>\n",
       "      <td>78665.0</td>\n",
       "      <td>NaN</td>\n",
       "    </tr>\n",
       "    <tr>\n",
       "      <th>2</th>\n",
       "      <td>103</td>\n",
       "      <td>Mahi</td>\n",
       "      <td>74635.0</td>\n",
       "      <td>GZB</td>\n",
       "    </tr>\n",
       "  </tbody>\n",
       "</table>\n",
       "</div>"
      ],
      "text/plain": [
       "   Emp_ID Emp_Name  Emp_Sal Emp_Add\n",
       "0     101      Raj  34456.0   Noida\n",
       "1     102    Rahul  78665.0     NaN\n",
       "2     103     Mahi  74635.0     GZB"
      ]
     },
     "execution_count": 55,
     "metadata": {},
     "output_type": "execute_result"
    }
   ],
   "source": [
    "df.head(3)"
   ]
  },
  {
   "cell_type": "code",
   "execution_count": 56,
   "id": "47c77efe-682a-4600-84f6-a0d03068af7b",
   "metadata": {},
   "outputs": [
    {
     "name": "stdout",
     "output_type": "stream",
     "text": [
      "Missing Data %Age : 40.0 %\n"
     ]
    }
   ],
   "source": [
    "# Missing %age of data in dataset (in terms of rows)\n",
    "print(\"Missing Data %Age :\",df.isnull().sum().sum()/(df.shape[0])*100,\"%\")"
   ]
  },
  {
   "cell_type": "code",
   "execution_count": 59,
   "id": "11973b1e-baa1-4a9a-a3e6-4d3afb9137e5",
   "metadata": {},
   "outputs": [],
   "source": [
    "# Remove Null Values from dataset\n",
    "df = df.dropna()"
   ]
  },
  {
   "cell_type": "code",
   "execution_count": 60,
   "id": "4443523e-121d-4091-901a-f256554104da",
   "metadata": {},
   "outputs": [
    {
     "data": {
      "text/html": [
       "<div>\n",
       "<style scoped>\n",
       "    .dataframe tbody tr th:only-of-type {\n",
       "        vertical-align: middle;\n",
       "    }\n",
       "\n",
       "    .dataframe tbody tr th {\n",
       "        vertical-align: top;\n",
       "    }\n",
       "\n",
       "    .dataframe thead th {\n",
       "        text-align: right;\n",
       "    }\n",
       "</style>\n",
       "<table border=\"1\" class=\"dataframe\">\n",
       "  <thead>\n",
       "    <tr style=\"text-align: right;\">\n",
       "      <th></th>\n",
       "      <th>Emp_ID</th>\n",
       "      <th>Emp_Name</th>\n",
       "      <th>Emp_Sal</th>\n",
       "      <th>Emp_Add</th>\n",
       "    </tr>\n",
       "  </thead>\n",
       "  <tbody>\n",
       "    <tr>\n",
       "      <th>0</th>\n",
       "      <td>101</td>\n",
       "      <td>Raj</td>\n",
       "      <td>34456.0</td>\n",
       "      <td>Noida</td>\n",
       "    </tr>\n",
       "    <tr>\n",
       "      <th>2</th>\n",
       "      <td>103</td>\n",
       "      <td>Mahi</td>\n",
       "      <td>74635.0</td>\n",
       "      <td>GZB</td>\n",
       "    </tr>\n",
       "    <tr>\n",
       "      <th>4</th>\n",
       "      <td>105</td>\n",
       "      <td>Anu</td>\n",
       "      <td>23456.0</td>\n",
       "      <td>Noida</td>\n",
       "    </tr>\n",
       "    <tr>\n",
       "      <th>5</th>\n",
       "      <td>106</td>\n",
       "      <td>Riya</td>\n",
       "      <td>75635.0</td>\n",
       "      <td>Delhi</td>\n",
       "    </tr>\n",
       "    <tr>\n",
       "      <th>8</th>\n",
       "      <td>109</td>\n",
       "      <td>Ram</td>\n",
       "      <td>47557.0</td>\n",
       "      <td>Noida</td>\n",
       "    </tr>\n",
       "    <tr>\n",
       "      <th>9</th>\n",
       "      <td>110</td>\n",
       "      <td>Shyam</td>\n",
       "      <td>65435.0</td>\n",
       "      <td>Delhi</td>\n",
       "    </tr>\n",
       "  </tbody>\n",
       "</table>\n",
       "</div>"
      ],
      "text/plain": [
       "   Emp_ID Emp_Name  Emp_Sal Emp_Add\n",
       "0     101      Raj  34456.0   Noida\n",
       "2     103     Mahi  74635.0     GZB\n",
       "4     105      Anu  23456.0   Noida\n",
       "5     106     Riya  75635.0   Delhi\n",
       "8     109      Ram  47557.0   Noida\n",
       "9     110    Shyam  65435.0   Delhi"
      ]
     },
     "execution_count": 60,
     "metadata": {},
     "output_type": "execute_result"
    }
   ],
   "source": [
    "df"
   ]
  },
  {
   "cell_type": "code",
   "execution_count": 64,
   "id": "21eb0fdd-b01f-43e8-a39b-f89e0db8b345",
   "metadata": {},
   "outputs": [
    {
     "data": {
      "text/html": [
       "<div>\n",
       "<style scoped>\n",
       "    .dataframe tbody tr th:only-of-type {\n",
       "        vertical-align: middle;\n",
       "    }\n",
       "\n",
       "    .dataframe tbody tr th {\n",
       "        vertical-align: top;\n",
       "    }\n",
       "\n",
       "    .dataframe thead th {\n",
       "        text-align: right;\n",
       "    }\n",
       "</style>\n",
       "<table border=\"1\" class=\"dataframe\">\n",
       "  <thead>\n",
       "    <tr style=\"text-align: right;\">\n",
       "      <th></th>\n",
       "      <th>Emp_ID</th>\n",
       "      <th>Emp_Name</th>\n",
       "      <th>Emp_Sal</th>\n",
       "      <th>Emp_Add</th>\n",
       "    </tr>\n",
       "  </thead>\n",
       "  <tbody>\n",
       "    <tr>\n",
       "      <th>0</th>\n",
       "      <td>101</td>\n",
       "      <td>Raj</td>\n",
       "      <td>34456.0</td>\n",
       "      <td>Noida</td>\n",
       "    </tr>\n",
       "    <tr>\n",
       "      <th>1</th>\n",
       "      <td>102</td>\n",
       "      <td>Rahul</td>\n",
       "      <td>78665.0</td>\n",
       "      <td>NaN</td>\n",
       "    </tr>\n",
       "    <tr>\n",
       "      <th>2</th>\n",
       "      <td>103</td>\n",
       "      <td>Mahi</td>\n",
       "      <td>74635.0</td>\n",
       "      <td>GZB</td>\n",
       "    </tr>\n",
       "    <tr>\n",
       "      <th>3</th>\n",
       "      <td>104</td>\n",
       "      <td>Mohan</td>\n",
       "      <td>NaN</td>\n",
       "      <td>Hapur</td>\n",
       "    </tr>\n",
       "    <tr>\n",
       "      <th>4</th>\n",
       "      <td>105</td>\n",
       "      <td>Anu</td>\n",
       "      <td>23456.0</td>\n",
       "      <td>Noida</td>\n",
       "    </tr>\n",
       "    <tr>\n",
       "      <th>5</th>\n",
       "      <td>106</td>\n",
       "      <td>Riya</td>\n",
       "      <td>75635.0</td>\n",
       "      <td>Delhi</td>\n",
       "    </tr>\n",
       "    <tr>\n",
       "      <th>6</th>\n",
       "      <td>107</td>\n",
       "      <td>NaN</td>\n",
       "      <td>23476.0</td>\n",
       "      <td>GZB</td>\n",
       "    </tr>\n",
       "    <tr>\n",
       "      <th>7</th>\n",
       "      <td>108</td>\n",
       "      <td>Anuj</td>\n",
       "      <td>NaN</td>\n",
       "      <td>Hapur</td>\n",
       "    </tr>\n",
       "    <tr>\n",
       "      <th>8</th>\n",
       "      <td>109</td>\n",
       "      <td>Ram</td>\n",
       "      <td>47557.0</td>\n",
       "      <td>Noida</td>\n",
       "    </tr>\n",
       "    <tr>\n",
       "      <th>9</th>\n",
       "      <td>110</td>\n",
       "      <td>Shyam</td>\n",
       "      <td>65435.0</td>\n",
       "      <td>Delhi</td>\n",
       "    </tr>\n",
       "  </tbody>\n",
       "</table>\n",
       "</div>"
      ],
      "text/plain": [
       "   Emp_ID Emp_Name  Emp_Sal Emp_Add\n",
       "0     101      Raj  34456.0   Noida\n",
       "1     102    Rahul  78665.0     NaN\n",
       "2     103     Mahi  74635.0     GZB\n",
       "3     104    Mohan      NaN   Hapur\n",
       "4     105      Anu  23456.0   Noida\n",
       "5     106     Riya  75635.0   Delhi\n",
       "6     107      NaN  23476.0     GZB\n",
       "7     108     Anuj      NaN   Hapur\n",
       "8     109      Ram  47557.0   Noida\n",
       "9     110    Shyam  65435.0   Delhi"
      ]
     },
     "execution_count": 64,
     "metadata": {},
     "output_type": "execute_result"
    }
   ],
   "source": [
    "df"
   ]
  },
  {
   "cell_type": "code",
   "execution_count": 65,
   "id": "97cec8d7-ea85-4c2e-97ca-ea1993cadf2f",
   "metadata": {},
   "outputs": [],
   "source": [
    "df.dropna(inplace=True)"
   ]
  },
  {
   "cell_type": "code",
   "execution_count": 66,
   "id": "21c59d0b-e930-4e5f-9771-a0e9c11794c5",
   "metadata": {},
   "outputs": [
    {
     "data": {
      "text/html": [
       "<div>\n",
       "<style scoped>\n",
       "    .dataframe tbody tr th:only-of-type {\n",
       "        vertical-align: middle;\n",
       "    }\n",
       "\n",
       "    .dataframe tbody tr th {\n",
       "        vertical-align: top;\n",
       "    }\n",
       "\n",
       "    .dataframe thead th {\n",
       "        text-align: right;\n",
       "    }\n",
       "</style>\n",
       "<table border=\"1\" class=\"dataframe\">\n",
       "  <thead>\n",
       "    <tr style=\"text-align: right;\">\n",
       "      <th></th>\n",
       "      <th>Emp_ID</th>\n",
       "      <th>Emp_Name</th>\n",
       "      <th>Emp_Sal</th>\n",
       "      <th>Emp_Add</th>\n",
       "    </tr>\n",
       "  </thead>\n",
       "  <tbody>\n",
       "    <tr>\n",
       "      <th>0</th>\n",
       "      <td>101</td>\n",
       "      <td>Raj</td>\n",
       "      <td>34456.0</td>\n",
       "      <td>Noida</td>\n",
       "    </tr>\n",
       "    <tr>\n",
       "      <th>2</th>\n",
       "      <td>103</td>\n",
       "      <td>Mahi</td>\n",
       "      <td>74635.0</td>\n",
       "      <td>GZB</td>\n",
       "    </tr>\n",
       "    <tr>\n",
       "      <th>4</th>\n",
       "      <td>105</td>\n",
       "      <td>Anu</td>\n",
       "      <td>23456.0</td>\n",
       "      <td>Noida</td>\n",
       "    </tr>\n",
       "    <tr>\n",
       "      <th>5</th>\n",
       "      <td>106</td>\n",
       "      <td>Riya</td>\n",
       "      <td>75635.0</td>\n",
       "      <td>Delhi</td>\n",
       "    </tr>\n",
       "    <tr>\n",
       "      <th>8</th>\n",
       "      <td>109</td>\n",
       "      <td>Ram</td>\n",
       "      <td>47557.0</td>\n",
       "      <td>Noida</td>\n",
       "    </tr>\n",
       "    <tr>\n",
       "      <th>9</th>\n",
       "      <td>110</td>\n",
       "      <td>Shyam</td>\n",
       "      <td>65435.0</td>\n",
       "      <td>Delhi</td>\n",
       "    </tr>\n",
       "  </tbody>\n",
       "</table>\n",
       "</div>"
      ],
      "text/plain": [
       "   Emp_ID Emp_Name  Emp_Sal Emp_Add\n",
       "0     101      Raj  34456.0   Noida\n",
       "2     103     Mahi  74635.0     GZB\n",
       "4     105      Anu  23456.0   Noida\n",
       "5     106     Riya  75635.0   Delhi\n",
       "8     109      Ram  47557.0   Noida\n",
       "9     110    Shyam  65435.0   Delhi"
      ]
     },
     "execution_count": 66,
     "metadata": {},
     "output_type": "execute_result"
    }
   ],
   "source": [
    "df"
   ]
  }
 ],
 "metadata": {
  "kernelspec": {
   "display_name": "Python 3 (ipykernel)",
   "language": "python",
   "name": "python3"
  },
  "language_info": {
   "codemirror_mode": {
    "name": "ipython",
    "version": 3
   },
   "file_extension": ".py",
   "mimetype": "text/x-python",
   "name": "python",
   "nbconvert_exporter": "python",
   "pygments_lexer": "ipython3",
   "version": "3.13.5"
  }
 },
 "nbformat": 4,
 "nbformat_minor": 5
}
