{
 "cells": [
  {
   "cell_type": "markdown",
   "id": "10b74a8f-35dd-4e5c-8dc6-f20b7c6a9922",
   "metadata": {},
   "source": [
    "## Pandas Library (External Library)"
   ]
  },
  {
   "cell_type": "code",
   "execution_count": 1,
   "id": "e91220e6-41a3-4b12-ae71-0fe2143270f2",
   "metadata": {},
   "outputs": [
    {
     "name": "stdout",
     "output_type": "stream",
     "text": [
      "Defaulting to user installation because normal site-packages is not writeable\n",
      "Requirement already satisfied: pandas in c:\\users\\croma campus\\appdata\\roaming\\python\\python313\\site-packages (2.3.1)\n",
      "Requirement already satisfied: numpy>=1.26.0 in c:\\users\\croma campus\\appdata\\roaming\\python\\python313\\site-packages (from pandas) (2.2.6)\n",
      "Requirement already satisfied: python-dateutil>=2.8.2 in c:\\users\\croma campus\\appdata\\roaming\\python\\python313\\site-packages (from pandas) (2.9.0.post0)\n",
      "Requirement already satisfied: pytz>=2020.1 in c:\\users\\croma campus\\appdata\\roaming\\python\\python313\\site-packages (from pandas) (2025.2)\n",
      "Requirement already satisfied: tzdata>=2022.7 in c:\\users\\croma campus\\appdata\\roaming\\python\\python313\\site-packages (from pandas) (2025.2)\n",
      "Requirement already satisfied: six>=1.5 in c:\\users\\croma campus\\appdata\\roaming\\python\\python313\\site-packages (from python-dateutil>=2.8.2->pandas) (1.17.0)\n"
     ]
    },
    {
     "name": "stderr",
     "output_type": "stream",
     "text": [
      "\n",
      "[notice] A new release of pip is available: 25.1.1 -> 25.3\n",
      "[notice] To update, run: python.exe -m pip install --upgrade pip\n"
     ]
    }
   ],
   "source": [
    "# Install Pandas Library\n",
    "!pip install pandas"
   ]
  },
  {
   "cell_type": "code",
   "execution_count": 2,
   "id": "8cf9c4f5-28bd-4d84-accc-cc3e5d52dab7",
   "metadata": {},
   "outputs": [],
   "source": [
    "# Pandas is used for working on data\n",
    "# Series (list , Single Dimension Array)\n",
    "# Dataframe (2D Data , Tabular Format) "
   ]
  },
  {
   "cell_type": "code",
   "execution_count": 4,
   "id": "ee369fef-b360-46b0-8aef-3b9f08900757",
   "metadata": {},
   "outputs": [],
   "source": [
    "# Importing libraries\n",
    "import pandas as pd"
   ]
  },
  {
   "cell_type": "code",
   "execution_count": 21,
   "id": "452f7f78-75cc-4018-a60f-46323570882f",
   "metadata": {},
   "outputs": [],
   "source": [
    "# Creating Dummy Data\n",
    "data = {\n",
    "    'Stu_ID':[101,102,103,104,105,106,107],\n",
    "    'Stu_Name':['Raj','Riya','Mahi','Soni','Riya','Rahul','Yogesh'],\n",
    "    'Marks':[78,35,47,13,79,46,35]\n",
    "}"
   ]
  },
  {
   "cell_type": "code",
   "execution_count": 22,
   "id": "2962d752-2c4c-4e13-b778-26eec5994104",
   "metadata": {},
   "outputs": [],
   "source": [
    "# Creating a dataframe (2D Dataset)\n",
    "df = pd.DataFrame(data)"
   ]
  },
  {
   "cell_type": "code",
   "execution_count": 23,
   "id": "043318f2-5233-407a-9274-88f131c324cc",
   "metadata": {},
   "outputs": [
    {
     "data": {
      "text/html": [
       "<div>\n",
       "<style scoped>\n",
       "    .dataframe tbody tr th:only-of-type {\n",
       "        vertical-align: middle;\n",
       "    }\n",
       "\n",
       "    .dataframe tbody tr th {\n",
       "        vertical-align: top;\n",
       "    }\n",
       "\n",
       "    .dataframe thead th {\n",
       "        text-align: right;\n",
       "    }\n",
       "</style>\n",
       "<table border=\"1\" class=\"dataframe\">\n",
       "  <thead>\n",
       "    <tr style=\"text-align: right;\">\n",
       "      <th></th>\n",
       "      <th>Stu_ID</th>\n",
       "      <th>Stu_Name</th>\n",
       "      <th>Marks</th>\n",
       "    </tr>\n",
       "  </thead>\n",
       "  <tbody>\n",
       "    <tr>\n",
       "      <th>0</th>\n",
       "      <td>101</td>\n",
       "      <td>Raj</td>\n",
       "      <td>78</td>\n",
       "    </tr>\n",
       "    <tr>\n",
       "      <th>1</th>\n",
       "      <td>102</td>\n",
       "      <td>Riya</td>\n",
       "      <td>35</td>\n",
       "    </tr>\n",
       "    <tr>\n",
       "      <th>2</th>\n",
       "      <td>103</td>\n",
       "      <td>Mahi</td>\n",
       "      <td>47</td>\n",
       "    </tr>\n",
       "    <tr>\n",
       "      <th>3</th>\n",
       "      <td>104</td>\n",
       "      <td>Soni</td>\n",
       "      <td>13</td>\n",
       "    </tr>\n",
       "    <tr>\n",
       "      <th>4</th>\n",
       "      <td>105</td>\n",
       "      <td>Riya</td>\n",
       "      <td>79</td>\n",
       "    </tr>\n",
       "    <tr>\n",
       "      <th>5</th>\n",
       "      <td>106</td>\n",
       "      <td>Rahul</td>\n",
       "      <td>46</td>\n",
       "    </tr>\n",
       "    <tr>\n",
       "      <th>6</th>\n",
       "      <td>107</td>\n",
       "      <td>Yogesh</td>\n",
       "      <td>35</td>\n",
       "    </tr>\n",
       "  </tbody>\n",
       "</table>\n",
       "</div>"
      ],
      "text/plain": [
       "   Stu_ID Stu_Name  Marks\n",
       "0     101      Raj     78\n",
       "1     102     Riya     35\n",
       "2     103     Mahi     47\n",
       "3     104     Soni     13\n",
       "4     105     Riya     79\n",
       "5     106    Rahul     46\n",
       "6     107   Yogesh     35"
      ]
     },
     "execution_count": 23,
     "metadata": {},
     "output_type": "execute_result"
    }
   ],
   "source": [
    "df"
   ]
  },
  {
   "cell_type": "code",
   "execution_count": 24,
   "id": "b87550cb-f5d8-449b-979d-323a05f6958c",
   "metadata": {},
   "outputs": [
    {
     "data": {
      "text/html": [
       "<div>\n",
       "<style scoped>\n",
       "    .dataframe tbody tr th:only-of-type {\n",
       "        vertical-align: middle;\n",
       "    }\n",
       "\n",
       "    .dataframe tbody tr th {\n",
       "        vertical-align: top;\n",
       "    }\n",
       "\n",
       "    .dataframe thead th {\n",
       "        text-align: right;\n",
       "    }\n",
       "</style>\n",
       "<table border=\"1\" class=\"dataframe\">\n",
       "  <thead>\n",
       "    <tr style=\"text-align: right;\">\n",
       "      <th></th>\n",
       "      <th>Stu_ID</th>\n",
       "      <th>Stu_Name</th>\n",
       "      <th>Marks</th>\n",
       "    </tr>\n",
       "  </thead>\n",
       "  <tbody>\n",
       "    <tr>\n",
       "      <th>0</th>\n",
       "      <td>101</td>\n",
       "      <td>Raj</td>\n",
       "      <td>78</td>\n",
       "    </tr>\n",
       "    <tr>\n",
       "      <th>1</th>\n",
       "      <td>102</td>\n",
       "      <td>Riya</td>\n",
       "      <td>35</td>\n",
       "    </tr>\n",
       "    <tr>\n",
       "      <th>2</th>\n",
       "      <td>103</td>\n",
       "      <td>Mahi</td>\n",
       "      <td>47</td>\n",
       "    </tr>\n",
       "    <tr>\n",
       "      <th>3</th>\n",
       "      <td>104</td>\n",
       "      <td>Soni</td>\n",
       "      <td>13</td>\n",
       "    </tr>\n",
       "    <tr>\n",
       "      <th>4</th>\n",
       "      <td>105</td>\n",
       "      <td>Riya</td>\n",
       "      <td>79</td>\n",
       "    </tr>\n",
       "  </tbody>\n",
       "</table>\n",
       "</div>"
      ],
      "text/plain": [
       "   Stu_ID Stu_Name  Marks\n",
       "0     101      Raj     78\n",
       "1     102     Riya     35\n",
       "2     103     Mahi     47\n",
       "3     104     Soni     13\n",
       "4     105     Riya     79"
      ]
     },
     "execution_count": 24,
     "metadata": {},
     "output_type": "execute_result"
    }
   ],
   "source": [
    "# By default , head will print first 5 rows\n",
    "df.head()"
   ]
  },
  {
   "cell_type": "code",
   "execution_count": 25,
   "id": "36463b51-37fe-47fa-a88f-8469603a78fc",
   "metadata": {},
   "outputs": [
    {
     "data": {
      "text/html": [
       "<div>\n",
       "<style scoped>\n",
       "    .dataframe tbody tr th:only-of-type {\n",
       "        vertical-align: middle;\n",
       "    }\n",
       "\n",
       "    .dataframe tbody tr th {\n",
       "        vertical-align: top;\n",
       "    }\n",
       "\n",
       "    .dataframe thead th {\n",
       "        text-align: right;\n",
       "    }\n",
       "</style>\n",
       "<table border=\"1\" class=\"dataframe\">\n",
       "  <thead>\n",
       "    <tr style=\"text-align: right;\">\n",
       "      <th></th>\n",
       "      <th>Stu_ID</th>\n",
       "      <th>Stu_Name</th>\n",
       "      <th>Marks</th>\n",
       "    </tr>\n",
       "  </thead>\n",
       "  <tbody>\n",
       "    <tr>\n",
       "      <th>0</th>\n",
       "      <td>101</td>\n",
       "      <td>Raj</td>\n",
       "      <td>78</td>\n",
       "    </tr>\n",
       "    <tr>\n",
       "      <th>1</th>\n",
       "      <td>102</td>\n",
       "      <td>Riya</td>\n",
       "      <td>35</td>\n",
       "    </tr>\n",
       "  </tbody>\n",
       "</table>\n",
       "</div>"
      ],
      "text/plain": [
       "   Stu_ID Stu_Name  Marks\n",
       "0     101      Raj     78\n",
       "1     102     Riya     35"
      ]
     },
     "execution_count": 25,
     "metadata": {},
     "output_type": "execute_result"
    }
   ],
   "source": [
    "df.head(2)"
   ]
  },
  {
   "cell_type": "code",
   "execution_count": 26,
   "id": "89547749-d3ca-4ea5-96f1-384a7bd49491",
   "metadata": {},
   "outputs": [
    {
     "data": {
      "text/html": [
       "<div>\n",
       "<style scoped>\n",
       "    .dataframe tbody tr th:only-of-type {\n",
       "        vertical-align: middle;\n",
       "    }\n",
       "\n",
       "    .dataframe tbody tr th {\n",
       "        vertical-align: top;\n",
       "    }\n",
       "\n",
       "    .dataframe thead th {\n",
       "        text-align: right;\n",
       "    }\n",
       "</style>\n",
       "<table border=\"1\" class=\"dataframe\">\n",
       "  <thead>\n",
       "    <tr style=\"text-align: right;\">\n",
       "      <th></th>\n",
       "      <th>Stu_ID</th>\n",
       "      <th>Stu_Name</th>\n",
       "      <th>Marks</th>\n",
       "    </tr>\n",
       "  </thead>\n",
       "  <tbody>\n",
       "    <tr>\n",
       "      <th>2</th>\n",
       "      <td>103</td>\n",
       "      <td>Mahi</td>\n",
       "      <td>47</td>\n",
       "    </tr>\n",
       "    <tr>\n",
       "      <th>3</th>\n",
       "      <td>104</td>\n",
       "      <td>Soni</td>\n",
       "      <td>13</td>\n",
       "    </tr>\n",
       "    <tr>\n",
       "      <th>4</th>\n",
       "      <td>105</td>\n",
       "      <td>Riya</td>\n",
       "      <td>79</td>\n",
       "    </tr>\n",
       "    <tr>\n",
       "      <th>5</th>\n",
       "      <td>106</td>\n",
       "      <td>Rahul</td>\n",
       "      <td>46</td>\n",
       "    </tr>\n",
       "    <tr>\n",
       "      <th>6</th>\n",
       "      <td>107</td>\n",
       "      <td>Yogesh</td>\n",
       "      <td>35</td>\n",
       "    </tr>\n",
       "  </tbody>\n",
       "</table>\n",
       "</div>"
      ],
      "text/plain": [
       "   Stu_ID Stu_Name  Marks\n",
       "2     103     Mahi     47\n",
       "3     104     Soni     13\n",
       "4     105     Riya     79\n",
       "5     106    Rahul     46\n",
       "6     107   Yogesh     35"
      ]
     },
     "execution_count": 26,
     "metadata": {},
     "output_type": "execute_result"
    }
   ],
   "source": [
    "# tail will print last 5 rows by default\n",
    "df.tail()"
   ]
  },
  {
   "cell_type": "code",
   "execution_count": 27,
   "id": "ec4c5102-7786-4361-91ca-c38af7ea5155",
   "metadata": {},
   "outputs": [
    {
     "data": {
      "text/html": [
       "<div>\n",
       "<style scoped>\n",
       "    .dataframe tbody tr th:only-of-type {\n",
       "        vertical-align: middle;\n",
       "    }\n",
       "\n",
       "    .dataframe tbody tr th {\n",
       "        vertical-align: top;\n",
       "    }\n",
       "\n",
       "    .dataframe thead th {\n",
       "        text-align: right;\n",
       "    }\n",
       "</style>\n",
       "<table border=\"1\" class=\"dataframe\">\n",
       "  <thead>\n",
       "    <tr style=\"text-align: right;\">\n",
       "      <th></th>\n",
       "      <th>Stu_ID</th>\n",
       "      <th>Stu_Name</th>\n",
       "      <th>Marks</th>\n",
       "    </tr>\n",
       "  </thead>\n",
       "  <tbody>\n",
       "    <tr>\n",
       "      <th>4</th>\n",
       "      <td>105</td>\n",
       "      <td>Riya</td>\n",
       "      <td>79</td>\n",
       "    </tr>\n",
       "    <tr>\n",
       "      <th>5</th>\n",
       "      <td>106</td>\n",
       "      <td>Rahul</td>\n",
       "      <td>46</td>\n",
       "    </tr>\n",
       "    <tr>\n",
       "      <th>6</th>\n",
       "      <td>107</td>\n",
       "      <td>Yogesh</td>\n",
       "      <td>35</td>\n",
       "    </tr>\n",
       "  </tbody>\n",
       "</table>\n",
       "</div>"
      ],
      "text/plain": [
       "   Stu_ID Stu_Name  Marks\n",
       "4     105     Riya     79\n",
       "5     106    Rahul     46\n",
       "6     107   Yogesh     35"
      ]
     },
     "execution_count": 27,
     "metadata": {},
     "output_type": "execute_result"
    }
   ],
   "source": [
    "df.tail(3)"
   ]
  },
  {
   "cell_type": "code",
   "execution_count": 28,
   "id": "ced97f17-378e-43ae-ad1a-57abaeff3006",
   "metadata": {},
   "outputs": [
    {
     "data": {
      "text/plain": [
       "Index(['Stu_ID', 'Stu_Name', 'Marks'], dtype='object')"
      ]
     },
     "execution_count": 28,
     "metadata": {},
     "output_type": "execute_result"
    }
   ],
   "source": [
    "# Printing Column Names\n",
    "df.columns"
   ]
  },
  {
   "cell_type": "code",
   "execution_count": 29,
   "id": "6d531290-f69d-4e36-bd10-2ecf42105f9d",
   "metadata": {},
   "outputs": [
    {
     "data": {
      "text/plain": [
       "0    101\n",
       "1    102\n",
       "2    103\n",
       "3    104\n",
       "4    105\n",
       "5    106\n",
       "6    107\n",
       "Name: Stu_ID, dtype: int64"
      ]
     },
     "execution_count": 29,
     "metadata": {},
     "output_type": "execute_result"
    }
   ],
   "source": [
    "df.Stu_ID"
   ]
  },
  {
   "cell_type": "code",
   "execution_count": 30,
   "id": "845cab6b-ca4f-48e1-bc73-b2ea88c2da68",
   "metadata": {},
   "outputs": [
    {
     "data": {
      "text/plain": [
       "0       Raj\n",
       "1      Riya\n",
       "2      Mahi\n",
       "3      Soni\n",
       "4      Riya\n",
       "5     Rahul\n",
       "6    Yogesh\n",
       "Name: Stu_Name, dtype: object"
      ]
     },
     "execution_count": 30,
     "metadata": {},
     "output_type": "execute_result"
    }
   ],
   "source": [
    "df.Stu_Name"
   ]
  },
  {
   "cell_type": "code",
   "execution_count": 31,
   "id": "e2ece174-dd2e-4e1f-9bfa-7ed9e7005d09",
   "metadata": {},
   "outputs": [
    {
     "data": {
      "text/plain": [
       "0    101\n",
       "1    102\n",
       "2    103\n",
       "3    104\n",
       "4    105\n",
       "5    106\n",
       "6    107\n",
       "Name: Stu_ID, dtype: int64"
      ]
     },
     "execution_count": 31,
     "metadata": {},
     "output_type": "execute_result"
    }
   ],
   "source": [
    "df['Stu_ID']"
   ]
  },
  {
   "cell_type": "code",
   "execution_count": 32,
   "id": "6ebf5756-c824-40dc-b883-664827a9b97d",
   "metadata": {},
   "outputs": [
    {
     "data": {
      "text/plain": [
       "0    78\n",
       "1    35\n",
       "2    47\n",
       "3    13\n",
       "4    79\n",
       "5    46\n",
       "6    35\n",
       "Name: Marks, dtype: int64"
      ]
     },
     "execution_count": 32,
     "metadata": {},
     "output_type": "execute_result"
    }
   ],
   "source": [
    "df.Marks"
   ]
  },
  {
   "cell_type": "code",
   "execution_count": 33,
   "id": "c88d20b9-f63a-49b2-89b5-299611f88f7c",
   "metadata": {},
   "outputs": [
    {
     "data": {
      "text/plain": [
       "0    78\n",
       "1    35\n",
       "2    47\n",
       "3    13\n",
       "4    79\n",
       "5    46\n",
       "6    35\n",
       "Name: Marks, dtype: int64"
      ]
     },
     "execution_count": 33,
     "metadata": {},
     "output_type": "execute_result"
    }
   ],
   "source": [
    "df['Marks']"
   ]
  },
  {
   "cell_type": "code",
   "execution_count": 35,
   "id": "97c83b74-8705-433b-8b23-26e5cf26e5f5",
   "metadata": {},
   "outputs": [
    {
     "data": {
      "text/plain": [
       "np.int64(333)"
      ]
     },
     "execution_count": 35,
     "metadata": {},
     "output_type": "execute_result"
    }
   ],
   "source": [
    "# Calculating sum of a column\n",
    "df.Marks.sum()"
   ]
  },
  {
   "cell_type": "code",
   "execution_count": 42,
   "id": "914eb9db-101e-4e0c-a0d2-e8a2f1a31cf9",
   "metadata": {},
   "outputs": [
    {
     "name": "stdout",
     "output_type": "stream",
     "text": [
      "Average Marks : 47.57\n"
     ]
    }
   ],
   "source": [
    "# Calculating Average of a column\n",
    "print(\"Average Marks :\",round(df.Marks.sum()/len(df),2))"
   ]
  },
  {
   "cell_type": "code",
   "execution_count": 43,
   "id": "dc0692af-a59e-4751-b34e-4b2085426a0d",
   "metadata": {},
   "outputs": [
    {
     "data": {
      "text/plain": [
       "7"
      ]
     },
     "execution_count": 43,
     "metadata": {},
     "output_type": "execute_result"
    }
   ],
   "source": [
    "# Counting number of rows in a dataframe\n",
    "len(df)"
   ]
  },
  {
   "cell_type": "markdown",
   "id": "d032c845-4701-46a3-82b6-2ce76ccfe481",
   "metadata": {},
   "source": [
    "### Dataset\n",
    "Find Business Insights and Trends (Hidden Information)<br>\n",
    "1- Data Collection<br>\n",
    "2- Data Cleaning<br>\n",
    "    - null/Blank cell , row , column , duplicate etc <br>\n",
    "    remove , replace , repair etc<br>\n",
    "3- Data Transformation<br>\n",
    "\n",
    "Netflix / Edtech (Croma)<br>\n",
    "\n",
    "1h 13m  =>  1*60+13 => 73<br>\n",
    "1h 05m<br>\n",
    "1h    1*60+<br>\n",
    "59m     59*60+<br>\n",
    "1h 15m<br>\n",
    "\n",
    "4- Column Transformation<br>\n",
    "5- Data Visualization <br>\n",
    "(Bussiness Insights / Trends => Narration)<br>\n",
    "\n",
    "0.0% - 1.0% (You can think about remove)<br>"
   ]
  }
 ],
 "metadata": {
  "kernelspec": {
   "display_name": "Python 3 (ipykernel)",
   "language": "python",
   "name": "python3"
  },
  "language_info": {
   "codemirror_mode": {
    "name": "ipython",
    "version": 3
   },
   "file_extension": ".py",
   "mimetype": "text/x-python",
   "name": "python",
   "nbconvert_exporter": "python",
   "pygments_lexer": "ipython3",
   "version": "3.13.5"
  }
 },
 "nbformat": 4,
 "nbformat_minor": 5
}
