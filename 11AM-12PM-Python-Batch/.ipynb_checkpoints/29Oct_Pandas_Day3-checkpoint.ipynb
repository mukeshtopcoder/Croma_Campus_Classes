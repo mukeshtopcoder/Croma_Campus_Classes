{
 "cells": [
  {
   "cell_type": "code",
   "execution_count": 78,
   "id": "c9696afa-48e4-41f0-bc77-85e51d973f22",
   "metadata": {},
   "outputs": [],
   "source": [
    "import pandas as pd"
   ]
  },
  {
   "cell_type": "code",
   "execution_count": 79,
   "id": "fbd5c964-19b2-4447-953d-f739ab49e342",
   "metadata": {},
   "outputs": [
    {
     "name": "stdout",
     "output_type": "stream",
     "text": [
      "Defaulting to user installation because normal site-packages is not writeable\n",
      "Requirement already satisfied: openpyxl in c:\\users\\croma campus\\appdata\\roaming\\python\\python313\\site-packages (3.1.5)\n",
      "Requirement already satisfied: et-xmlfile in c:\\users\\croma campus\\appdata\\roaming\\python\\python313\\site-packages (from openpyxl) (2.0.0)\n"
     ]
    },
    {
     "name": "stderr",
     "output_type": "stream",
     "text": [
      "\n",
      "[notice] A new release of pip is available: 25.1.1 -> 25.3\n",
      "[notice] To update, run: python.exe -m pip install --upgrade pip\n"
     ]
    }
   ],
   "source": [
    "!pip install openpyxl"
   ]
  },
  {
   "cell_type": "code",
   "execution_count": 80,
   "id": "fe35eef0-e648-4197-bea8-7a74c9deaf13",
   "metadata": {},
   "outputs": [],
   "source": [
    "df = pd.read_excel(r\"C:\\Users\\Croma Campus\\Downloads\\Financial_Sample.xlsx\")"
   ]
  },
  {
   "cell_type": "code",
   "execution_count": 81,
   "id": "52107496-a96a-4145-948c-32fe0f5926f8",
   "metadata": {},
   "outputs": [
    {
     "data": {
      "text/html": [
       "<div>\n",
       "<style scoped>\n",
       "    .dataframe tbody tr th:only-of-type {\n",
       "        vertical-align: middle;\n",
       "    }\n",
       "\n",
       "    .dataframe tbody tr th {\n",
       "        vertical-align: top;\n",
       "    }\n",
       "\n",
       "    .dataframe thead th {\n",
       "        text-align: right;\n",
       "    }\n",
       "</style>\n",
       "<table border=\"1\" class=\"dataframe\">\n",
       "  <thead>\n",
       "    <tr style=\"text-align: right;\">\n",
       "      <th></th>\n",
       "      <th>Segment</th>\n",
       "      <th>Country</th>\n",
       "      <th>Product</th>\n",
       "      <th>Discount Band</th>\n",
       "      <th>Units Sold</th>\n",
       "      <th>Manufacturing Price</th>\n",
       "      <th>Sale Price</th>\n",
       "      <th>Gross Sales</th>\n",
       "      <th>Discounts</th>\n",
       "      <th>Sales</th>\n",
       "      <th>COGS</th>\n",
       "      <th>Profit</th>\n",
       "      <th>Date</th>\n",
       "      <th>Month Number</th>\n",
       "      <th>Month Name</th>\n",
       "      <th>Year</th>\n",
       "    </tr>\n",
       "  </thead>\n",
       "  <tbody>\n",
       "    <tr>\n",
       "      <th>0</th>\n",
       "      <td>Government</td>\n",
       "      <td>Canada</td>\n",
       "      <td>Carretera</td>\n",
       "      <td>NaN</td>\n",
       "      <td>1618.5</td>\n",
       "      <td>3</td>\n",
       "      <td>20.0</td>\n",
       "      <td>32370.0</td>\n",
       "      <td>0.0</td>\n",
       "      <td>32370.0</td>\n",
       "      <td>16185.0</td>\n",
       "      <td>16185.0</td>\n",
       "      <td>2014-01-01</td>\n",
       "      <td>1</td>\n",
       "      <td>January</td>\n",
       "      <td>2014</td>\n",
       "    </tr>\n",
       "    <tr>\n",
       "      <th>1</th>\n",
       "      <td>Government</td>\n",
       "      <td>Germany</td>\n",
       "      <td>Carretera</td>\n",
       "      <td>NaN</td>\n",
       "      <td>1321.0</td>\n",
       "      <td>3</td>\n",
       "      <td>20.0</td>\n",
       "      <td>26420.0</td>\n",
       "      <td>0.0</td>\n",
       "      <td>26420.0</td>\n",
       "      <td>13210.0</td>\n",
       "      <td>13210.0</td>\n",
       "      <td>2014-01-01</td>\n",
       "      <td>1</td>\n",
       "      <td>January</td>\n",
       "      <td>2014</td>\n",
       "    </tr>\n",
       "  </tbody>\n",
       "</table>\n",
       "</div>"
      ],
      "text/plain": [
       "      Segment  Country    Product Discount Band  Units Sold  \\\n",
       "0  Government   Canada  Carretera           NaN      1618.5   \n",
       "1  Government  Germany  Carretera           NaN      1321.0   \n",
       "\n",
       "   Manufacturing Price  Sale Price  Gross Sales  Discounts    Sales     COGS  \\\n",
       "0                    3        20.0      32370.0        0.0  32370.0  16185.0   \n",
       "1                    3        20.0      26420.0        0.0  26420.0  13210.0   \n",
       "\n",
       "    Profit       Date  Month Number Month Name  Year  \n",
       "0  16185.0 2014-01-01             1    January  2014  \n",
       "1  13210.0 2014-01-01             1    January  2014  "
      ]
     },
     "execution_count": 81,
     "metadata": {},
     "output_type": "execute_result"
    }
   ],
   "source": [
    "df.head(2)"
   ]
  },
  {
   "cell_type": "code",
   "execution_count": 82,
   "id": "f0c6f85b-4cde-4550-8703-3e2a40fb3cc8",
   "metadata": {},
   "outputs": [
    {
     "name": "stdout",
     "output_type": "stream",
     "text": [
      "Index(['Segment', 'Country', 'Product', 'Discount Band', 'Units Sold',\n",
      "       'Manufacturing Price', 'Sale Price', 'Gross Sales', 'Discounts',\n",
      "       ' Sales', 'COGS', 'Profit', 'Date', 'Month Number', 'Month Name',\n",
      "       'Year'],\n",
      "      dtype='object')\n",
      "Total Columns : 16\n"
     ]
    }
   ],
   "source": [
    "print(df.columns)\n",
    "print(\"Total Columns :\",len(df.columns))"
   ]
  },
  {
   "cell_type": "code",
   "execution_count": 83,
   "id": "796686a2-b837-4b53-8621-12b2f2820274",
   "metadata": {},
   "outputs": [
    {
     "data": {
      "text/plain": [
       "Segment                 8\n",
       "Country                11\n",
       "Product                 8\n",
       "Discount Band          62\n",
       "Units Sold              5\n",
       "Manufacturing Price     0\n",
       "Sale Price              7\n",
       "Gross Sales             5\n",
       "Discounts               5\n",
       " Sales                  0\n",
       "COGS                    0\n",
       "Profit                  0\n",
       "Date                    0\n",
       "Month Number            0\n",
       "Month Name              0\n",
       "Year                    0\n",
       "dtype: int64"
      ]
     },
     "execution_count": 83,
     "metadata": {},
     "output_type": "execute_result"
    }
   ],
   "source": [
    "# Find Missing Values in Your Dataset\n",
    "df.isnull().sum()"
   ]
  },
  {
   "cell_type": "code",
   "execution_count": 84,
   "id": "2ed006f5-2497-4d5e-b092-f168614a1f2b",
   "metadata": {},
   "outputs": [
    {
     "name": "stdout",
     "output_type": "stream",
     "text": [
      "<class 'pandas.core.frame.DataFrame'>\n",
      "RangeIndex: 700 entries, 0 to 699\n",
      "Data columns (total 16 columns):\n",
      " #   Column               Non-Null Count  Dtype         \n",
      "---  ------               --------------  -----         \n",
      " 0   Segment              692 non-null    object        \n",
      " 1   Country              689 non-null    object        \n",
      " 2   Product              692 non-null    object        \n",
      " 3   Discount Band        638 non-null    object        \n",
      " 4   Units Sold           695 non-null    float64       \n",
      " 5   Manufacturing Price  700 non-null    int64         \n",
      " 6   Sale Price           693 non-null    float64       \n",
      " 7   Gross Sales          695 non-null    float64       \n",
      " 8   Discounts            695 non-null    float64       \n",
      " 9    Sales               700 non-null    float64       \n",
      " 10  COGS                 700 non-null    float64       \n",
      " 11  Profit               700 non-null    float64       \n",
      " 12  Date                 700 non-null    datetime64[ns]\n",
      " 13  Month Number         700 non-null    int64         \n",
      " 14  Month Name           700 non-null    object        \n",
      " 15  Year                 700 non-null    int64         \n",
      "dtypes: datetime64[ns](1), float64(7), int64(3), object(5)\n",
      "memory usage: 87.6+ KB\n"
     ]
    }
   ],
   "source": [
    "# information about dataset\n",
    "df.info()"
   ]
  },
  {
   "cell_type": "markdown",
   "id": "f0e8c669-5767-46a1-9e14-031b19bbd177",
   "metadata": {},
   "source": [
    "#### Categorical Data (String / object)\n",
    "    - Nominal Data\n",
    "        - City , State , Country , Segment , Gender etc\n",
    "    - Ordinal Data\n",
    "        - Band data (low , midium , high etc)\n",
    "        - size data (small, medium , large , Extra large etc)\n",
    "    if you need to clean categorical Data (replace data by mode or unknown/new) \n",
    "#### Numercial Data\n",
    "    - int   (32,45,-56,78,-56,0,56)\n",
    "    - float (34.67 , -45.5 , 0.0 , 0.345 , -0.456)\n",
    "    if you neet to clean numerical data (replace null by average)"
   ]
  },
  {
   "cell_type": "code",
   "execution_count": 85,
   "id": "924f99ad-4330-420b-9626-27b26ebfd40d",
   "metadata": {},
   "outputs": [
    {
     "name": "stdout",
     "output_type": "stream",
     "text": [
      "ColumnName\t null\t DType\n",
      "Segment \t 8 \t object\n",
      "Country \t 11 \t object\n",
      "Product \t 8 \t object\n",
      "Discount Band \t 62 \t object\n",
      "Units Sold \t 5 \t float64\n",
      "Sale Price \t 7 \t float64\n",
      "Gross Sales \t 5 \t float64\n",
      "Discounts \t 5 \t float64\n"
     ]
    }
   ],
   "source": [
    "# finding missing values column and their data types\n",
    "# EDA (Exploratory Data Analysis)\n",
    "print(\"ColumnName\\t null\\t DType\")\n",
    "for col in df.columns:\n",
    "    if df[col].isnull().sum() > 0:\n",
    "        print(col ,\"\\t\", df[col].isnull().sum(),\"\\t\", df[col].dtype)"
   ]
  },
  {
   "cell_type": "code",
   "execution_count": 86,
   "id": "1adef561-2e4d-48ae-a6fd-39e0a9b9d018",
   "metadata": {},
   "outputs": [
    {
     "data": {
      "text/plain": [
       "np.int64(8)"
      ]
     },
     "execution_count": 86,
     "metadata": {},
     "output_type": "execute_result"
    }
   ],
   "source": [
    "# Way to fill missing Values\n",
    "df.Segment.isnull().sum()"
   ]
  },
  {
   "cell_type": "code",
   "execution_count": 87,
   "id": "173b3253-4b66-4fb6-9f59-db96632a830f",
   "metadata": {},
   "outputs": [
    {
     "data": {
      "text/plain": [
       "array(['Government', 'Midmarket', 'Channel Partners', 'Enterprise',\n",
       "       'Small Business', nan], dtype=object)"
      ]
     },
     "execution_count": 87,
     "metadata": {},
     "output_type": "execute_result"
    }
   ],
   "source": [
    "df.Segment.unique()"
   ]
  },
  {
   "cell_type": "code",
   "execution_count": 88,
   "id": "f0450bf5-4b85-470b-85ca-9fbfbcc7a38d",
   "metadata": {},
   "outputs": [
    {
     "data": {
      "text/plain": [
       "0    Government\n",
       "Name: Segment, dtype: object"
      ]
     },
     "execution_count": 88,
     "metadata": {},
     "output_type": "execute_result"
    }
   ],
   "source": [
    "df.Segment.mode()"
   ]
  },
  {
   "cell_type": "code",
   "execution_count": 89,
   "id": "29ac5c96-03b1-455d-8edb-c2303f87916f",
   "metadata": {},
   "outputs": [],
   "source": [
    "df.Segment = df.Segment.fillna(value='Unknown_Segment')"
   ]
  },
  {
   "cell_type": "code",
   "execution_count": 90,
   "id": "d8aeb688-b813-48c7-8977-7e573d10cd10",
   "metadata": {},
   "outputs": [
    {
     "data": {
      "text/plain": [
       "np.int64(0)"
      ]
     },
     "execution_count": 90,
     "metadata": {},
     "output_type": "execute_result"
    }
   ],
   "source": [
    "df.Segment.isnull().sum()"
   ]
  },
  {
   "cell_type": "code",
   "execution_count": 91,
   "id": "df9ecacd-4391-45ff-a6d0-da67e577a098",
   "metadata": {},
   "outputs": [
    {
     "data": {
      "text/plain": [
       "Index(['Segment', 'Country', 'Product', 'Discount Band', 'Month Name'], dtype='object')"
      ]
     },
     "execution_count": 91,
     "metadata": {},
     "output_type": "execute_result"
    }
   ],
   "source": [
    "# finding all object dtype column names\n",
    "df.select_dtypes(include='object').columns"
   ]
  },
  {
   "cell_type": "code",
   "execution_count": 92,
   "id": "7389d71f-7d57-4518-abb5-e3aa2866f483",
   "metadata": {},
   "outputs": [],
   "source": [
    "# filling missing values (replace null values by the mode)\n",
    "for col in df.select_dtypes(include='object').columns:\n",
    "    df[col] = df[col].fillna(value=df[col].mode()[0])"
   ]
  },
  {
   "cell_type": "code",
   "execution_count": 93,
   "id": "e410824f-28be-4f15-b98f-8874d147861d",
   "metadata": {},
   "outputs": [
    {
     "data": {
      "text/plain": [
       "Segment          0\n",
       "Country          0\n",
       "Product          0\n",
       "Discount Band    0\n",
       "Month Name       0\n",
       "dtype: int64"
      ]
     },
     "execution_count": 93,
     "metadata": {},
     "output_type": "execute_result"
    }
   ],
   "source": [
    "df.select_dtypes(include='object').isnull().sum()"
   ]
  },
  {
   "cell_type": "code",
   "execution_count": 94,
   "id": "02ecc836-b04c-46d9-ae24-cac2881e9f17",
   "metadata": {},
   "outputs": [
    {
     "data": {
      "text/plain": [
       "Index(['Units Sold', 'Sale Price', 'Gross Sales', 'Discounts', ' Sales',\n",
       "       'COGS', 'Profit'],\n",
       "      dtype='object')"
      ]
     },
     "execution_count": 94,
     "metadata": {},
     "output_type": "execute_result"
    }
   ],
   "source": [
    "# finding missing values from numerical data and column name\n",
    "df.select_dtypes(include='float64').columns"
   ]
  },
  {
   "cell_type": "code",
   "execution_count": 95,
   "id": "d10ed889-56dd-4cf3-a542-aefbc275ce0b",
   "metadata": {},
   "outputs": [
    {
     "data": {
      "text/plain": [
       "np.float64(24133.860371428567)"
      ]
     },
     "execution_count": 95,
     "metadata": {},
     "output_type": "execute_result"
    }
   ],
   "source": [
    "df['Profit'].mean()"
   ]
  },
  {
   "cell_type": "code",
   "execution_count": 96,
   "id": "853bcbbb-abb3-4510-87ff-8c9f8052b478",
   "metadata": {},
   "outputs": [],
   "source": [
    "# filling missing values (replace null with mean/average)\n",
    "for col in df.select_dtypes(include='float64').columns:\n",
    "    df[col] = df[col].fillna(value=round(df[col].mean(),2))"
   ]
  },
  {
   "cell_type": "code",
   "execution_count": 97,
   "id": "a7625f6a-dfa7-4a93-a6ad-fe0e6ce08bfd",
   "metadata": {},
   "outputs": [
    {
     "data": {
      "text/plain": [
       "Units Sold     0\n",
       "Sale Price     0\n",
       "Gross Sales    0\n",
       "Discounts      0\n",
       " Sales         0\n",
       "COGS           0\n",
       "Profit         0\n",
       "dtype: int64"
      ]
     },
     "execution_count": 97,
     "metadata": {},
     "output_type": "execute_result"
    }
   ],
   "source": [
    "df.select_dtypes(include='float64').isnull().sum()"
   ]
  },
  {
   "cell_type": "code",
   "execution_count": 98,
   "id": "87b5cb2e-4f94-40be-9d4b-0b02941b0e13",
   "metadata": {},
   "outputs": [
    {
     "data": {
      "text/plain": [
       "Segment                0\n",
       "Country                0\n",
       "Product                0\n",
       "Discount Band          0\n",
       "Units Sold             0\n",
       "Manufacturing Price    0\n",
       "Sale Price             0\n",
       "Gross Sales            0\n",
       "Discounts              0\n",
       " Sales                 0\n",
       "COGS                   0\n",
       "Profit                 0\n",
       "Date                   0\n",
       "Month Number           0\n",
       "Month Name             0\n",
       "Year                   0\n",
       "dtype: int64"
      ]
     },
     "execution_count": 98,
     "metadata": {},
     "output_type": "execute_result"
    }
   ],
   "source": [
    "# Now Missing Values in Dataset\n",
    "df.isnull().sum()"
   ]
  }
 ],
 "metadata": {
  "kernelspec": {
   "display_name": "Python 3 (ipykernel)",
   "language": "python",
   "name": "python3"
  },
  "language_info": {
   "codemirror_mode": {
    "name": "ipython",
    "version": 3
   },
   "file_extension": ".py",
   "mimetype": "text/x-python",
   "name": "python",
   "nbconvert_exporter": "python",
   "pygments_lexer": "ipython3",
   "version": "3.13.5"
  }
 },
 "nbformat": 4,
 "nbformat_minor": 5
}
