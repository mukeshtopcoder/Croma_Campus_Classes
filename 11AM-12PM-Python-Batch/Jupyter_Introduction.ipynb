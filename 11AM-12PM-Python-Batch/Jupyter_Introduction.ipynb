{
 "cells": [
  {
   "cell_type": "markdown",
   "id": "2621f9fe-1da2-4b5b-b4a1-42812f3a9d2c",
   "metadata": {},
   "source": [
    "To start jupyter server you need to run a command in cmd/command prompt\n",
    "#### jupyter notebook"
   ]
  },
  {
   "cell_type": "code",
   "execution_count": 5,
   "id": "a2f5b3a3-a3bc-493f-bba3-c0ac3cfc18fb",
   "metadata": {},
   "outputs": [
    {
     "name": "stdout",
     "output_type": "stream",
     "text": [
      "210\n"
     ]
    }
   ],
   "source": [
    "a = 10\n",
    "b = 200 \n",
    "c = a+b\n",
    "print(c)"
   ]
  },
  {
   "cell_type": "code",
   "execution_count": 9,
   "id": "f2be41f1-3366-48b4-a748-86ca83052686",
   "metadata": {},
   "outputs": [
    {
     "name": "stdout",
     "output_type": "stream",
     "text": [
      "798\n"
     ]
    }
   ],
   "source": [
    "a = 344\n",
    "b = 454\n",
    "c = a+b\n",
    "print(c)"
   ]
  },
  {
   "cell_type": "markdown",
   "id": "26366104-1cc1-4aec-86a7-0905189ed598",
   "metadata": {},
   "source": []
  }
 ],
 "metadata": {
  "kernelspec": {
   "display_name": "Python 3 (ipykernel)",
   "language": "python",
   "name": "python3"
  },
  "language_info": {
   "codemirror_mode": {
    "name": "ipython",
    "version": 3
   },
   "file_extension": ".py",
   "mimetype": "text/x-python",
   "name": "python",
   "nbconvert_exporter": "python",
   "pygments_lexer": "ipython3",
   "version": "3.13.5"
  }
 },
 "nbformat": 4,
 "nbformat_minor": 5
}
