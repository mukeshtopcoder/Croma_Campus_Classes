{
 "cells": [
  {
   "cell_type": "code",
   "execution_count": 1,
   "id": "cd8f93d0-0c27-479f-bf58-aa9711e8492f",
   "metadata": {},
   "outputs": [],
   "source": [
    "import pandas as pd"
   ]
  },
  {
   "cell_type": "code",
   "execution_count": 2,
   "id": "00e78c0c-20ca-47b3-ad22-3a0796869789",
   "metadata": {},
   "outputs": [],
   "source": [
    "df = pd.read_excel(r\"C:\\Users\\THIS\\Downloads\\Ecomm.xlsx\")"
   ]
  },
  {
   "cell_type": "code",
   "execution_count": 3,
   "id": "be550e0e-442e-4d8c-a6a2-5fb517f426c5",
   "metadata": {},
   "outputs": [
    {
     "data": {
      "text/plain": [
       "(24, 12)"
      ]
     },
     "execution_count": 3,
     "metadata": {},
     "output_type": "execute_result"
    }
   ],
   "source": [
    "df.shape"
   ]
  },
  {
   "cell_type": "code",
   "execution_count": 5,
   "id": "6f37a79f-367f-43df-961d-a32d01ae64f4",
   "metadata": {},
   "outputs": [
    {
     "data": {
      "text/html": [
       "<div>\n",
       "<style scoped>\n",
       "    .dataframe tbody tr th:only-of-type {\n",
       "        vertical-align: middle;\n",
       "    }\n",
       "\n",
       "    .dataframe tbody tr th {\n",
       "        vertical-align: top;\n",
       "    }\n",
       "\n",
       "    .dataframe thead th {\n",
       "        text-align: right;\n",
       "    }\n",
       "</style>\n",
       "<table border=\"1\" class=\"dataframe\">\n",
       "  <thead>\n",
       "    <tr style=\"text-align: right;\">\n",
       "      <th></th>\n",
       "      <th>CustomerID</th>\n",
       "      <th>CustomerID.1</th>\n",
       "      <th>Order Date</th>\n",
       "      <th>Month</th>\n",
       "      <th>MonthName</th>\n",
       "      <th>DateInText</th>\n",
       "      <th>Customer Name</th>\n",
       "      <th>State or Province</th>\n",
       "      <th>City</th>\n",
       "      <th>Gender</th>\n",
       "      <th>Gender.1</th>\n",
       "      <th>Gender.2</th>\n",
       "    </tr>\n",
       "  </thead>\n",
       "  <tbody>\n",
       "    <tr>\n",
       "      <th>0</th>\n",
       "      <td>CUS7253</td>\n",
       "      <td>7253</td>\n",
       "      <td>2015-01-07</td>\n",
       "      <td>1</td>\n",
       "      <td>Jan</td>\n",
       "      <td>01/07/2015</td>\n",
       "      <td>Bonnie Potter</td>\n",
       "      <td>Washington</td>\n",
       "      <td>Anacortes</td>\n",
       "      <td>M</td>\n",
       "      <td>1</td>\n",
       "      <td>MALE</td>\n",
       "    </tr>\n",
       "    <tr>\n",
       "      <th>1</th>\n",
       "      <td>CUS4875</td>\n",
       "      <td>4875</td>\n",
       "      <td>2015-06-13</td>\n",
       "      <td>6</td>\n",
       "      <td>Jun</td>\n",
       "      <td>06/13/2015</td>\n",
       "      <td>Ronnie Proctor</td>\n",
       "      <td>California</td>\n",
       "      <td>San Gabriel</td>\n",
       "      <td>F</td>\n",
       "      <td>0</td>\n",
       "      <td>FEMALE</td>\n",
       "    </tr>\n",
       "  </tbody>\n",
       "</table>\n",
       "</div>"
      ],
      "text/plain": [
       "  CustomerID  CustomerID.1 Order Date  Month MonthName  DateInText  \\\n",
       "0    CUS7253          7253 2015-01-07      1       Jan  01/07/2015   \n",
       "1    CUS4875          4875 2015-06-13      6       Jun  06/13/2015   \n",
       "\n",
       "    Customer Name State or Province         City Gender  Gender.1 Gender.2  \n",
       "0   Bonnie Potter        Washington    Anacortes      M         1     MALE  \n",
       "1  Ronnie Proctor        California  San Gabriel      F         0   FEMALE  "
      ]
     },
     "execution_count": 5,
     "metadata": {},
     "output_type": "execute_result"
    }
   ],
   "source": [
    "df.head(2)"
   ]
  },
  {
   "cell_type": "code",
   "execution_count": 6,
   "id": "e1f6b163-95c7-43be-a275-0d02c82226f9",
   "metadata": {},
   "outputs": [],
   "source": [
    "# This excel file has 2 sheets 1. Jan , 2. CustomerDetails"
   ]
  },
  {
   "cell_type": "code",
   "execution_count": 11,
   "id": "1dc0b42b-7aa5-4f12-b638-e9a8dba912c7",
   "metadata": {},
   "outputs": [],
   "source": [
    "customer = pd.read_excel(r\"C:\\Users\\THIS\\Downloads\\Ecomm.xlsx\" , sheet_name='CustomerDetail')"
   ]
  },
  {
   "cell_type": "code",
   "execution_count": 12,
   "id": "bc7b21d8-8b9c-469a-a768-5c51dbc3a494",
   "metadata": {},
   "outputs": [
    {
     "data": {
      "text/html": [
       "<div>\n",
       "<style scoped>\n",
       "    .dataframe tbody tr th:only-of-type {\n",
       "        vertical-align: middle;\n",
       "    }\n",
       "\n",
       "    .dataframe tbody tr th {\n",
       "        vertical-align: top;\n",
       "    }\n",
       "\n",
       "    .dataframe thead th {\n",
       "        text-align: right;\n",
       "    }\n",
       "</style>\n",
       "<table border=\"1\" class=\"dataframe\">\n",
       "  <thead>\n",
       "    <tr style=\"text-align: right;\">\n",
       "      <th></th>\n",
       "      <th>CustomerID</th>\n",
       "      <th>CustomerID.1</th>\n",
       "      <th>Order Date</th>\n",
       "      <th>Month</th>\n",
       "      <th>MonthName</th>\n",
       "      <th>DateInText</th>\n",
       "      <th>Customer Name</th>\n",
       "      <th>State or Province</th>\n",
       "      <th>City</th>\n",
       "      <th>Gender</th>\n",
       "      <th>Gender.1</th>\n",
       "      <th>Gender.2</th>\n",
       "    </tr>\n",
       "  </thead>\n",
       "  <tbody>\n",
       "    <tr>\n",
       "      <th>0</th>\n",
       "      <td>CUS7253</td>\n",
       "      <td>7253</td>\n",
       "      <td>2015-01-07</td>\n",
       "      <td>1</td>\n",
       "      <td>Jan</td>\n",
       "      <td>01/07/2015</td>\n",
       "      <td>Bonnie Potter</td>\n",
       "      <td>Washington</td>\n",
       "      <td>Anacortes</td>\n",
       "      <td>M</td>\n",
       "      <td>1</td>\n",
       "      <td>MALE</td>\n",
       "    </tr>\n",
       "    <tr>\n",
       "      <th>1</th>\n",
       "      <td>CUS4875</td>\n",
       "      <td>4875</td>\n",
       "      <td>2015-06-13</td>\n",
       "      <td>6</td>\n",
       "      <td>Jun</td>\n",
       "      <td>06/13/2015</td>\n",
       "      <td>Ronnie Proctor</td>\n",
       "      <td>California</td>\n",
       "      <td>San Gabriel</td>\n",
       "      <td>F</td>\n",
       "      <td>0</td>\n",
       "      <td>FEMALE</td>\n",
       "    </tr>\n",
       "  </tbody>\n",
       "</table>\n",
       "</div>"
      ],
      "text/plain": [
       "  CustomerID  CustomerID.1 Order Date  Month MonthName  DateInText  \\\n",
       "0    CUS7253          7253 2015-01-07      1       Jan  01/07/2015   \n",
       "1    CUS4875          4875 2015-06-13      6       Jun  06/13/2015   \n",
       "\n",
       "    Customer Name State or Province         City Gender  Gender.1 Gender.2  \n",
       "0   Bonnie Potter        Washington    Anacortes      M         1     MALE  \n",
       "1  Ronnie Proctor        California  San Gabriel      F         0   FEMALE  "
      ]
     },
     "execution_count": 12,
     "metadata": {},
     "output_type": "execute_result"
    }
   ],
   "source": [
    "customer.head(2)"
   ]
  },
  {
   "cell_type": "code",
   "execution_count": 13,
   "id": "6897cf7b-8539-4581-ae83-03e20c2df05d",
   "metadata": {},
   "outputs": [],
   "source": [
    "orders = pd.read_excel(r\"C:\\Users\\THIS\\Downloads\\Ecomm.xlsx\" , sheet_name='Jan')"
   ]
  },
  {
   "cell_type": "code",
   "execution_count": 14,
   "id": "533faa48-0c11-43d1-bf49-4520f7f47d34",
   "metadata": {},
   "outputs": [
    {
     "data": {
      "text/html": [
       "<div>\n",
       "<style scoped>\n",
       "    .dataframe tbody tr th:only-of-type {\n",
       "        vertical-align: middle;\n",
       "    }\n",
       "\n",
       "    .dataframe tbody tr th {\n",
       "        vertical-align: top;\n",
       "    }\n",
       "\n",
       "    .dataframe thead th {\n",
       "        text-align: right;\n",
       "    }\n",
       "</style>\n",
       "<table border=\"1\" class=\"dataframe\">\n",
       "  <thead>\n",
       "    <tr style=\"text-align: right;\">\n",
       "      <th></th>\n",
       "      <th>Order ID</th>\n",
       "      <th>CustomerID</th>\n",
       "      <th>Amount</th>\n",
       "      <th>Profit</th>\n",
       "      <th>Quantity ordered new</th>\n",
       "      <th>Product Category</th>\n",
       "      <th>Product Sub-Category</th>\n",
       "      <th>Payment Mode</th>\n",
       "    </tr>\n",
       "  </thead>\n",
       "  <tbody>\n",
       "    <tr>\n",
       "      <th>0</th>\n",
       "      <td>88522</td>\n",
       "      <td>4666</td>\n",
       "      <td>11.36</td>\n",
       "      <td>4.5600</td>\n",
       "      <td>4</td>\n",
       "      <td>Office Supplies</td>\n",
       "      <td>Pens &amp; Art Supplies</td>\n",
       "      <td>Credit Card</td>\n",
       "    </tr>\n",
       "    <tr>\n",
       "      <th>1</th>\n",
       "      <td>90193</td>\n",
       "      <td>4663</td>\n",
       "      <td>6011.76</td>\n",
       "      <td>4390.3665</td>\n",
       "      <td>12</td>\n",
       "      <td>Furniture</td>\n",
       "      <td>Chairs &amp; Chairmats</td>\n",
       "      <td>Credit Card</td>\n",
       "    </tr>\n",
       "    <tr>\n",
       "      <th>2</th>\n",
       "      <td>90192</td>\n",
       "      <td>2583</td>\n",
       "      <td>208.56</td>\n",
       "      <td>-53.8096</td>\n",
       "      <td>22</td>\n",
       "      <td>Furniture</td>\n",
       "      <td>Office Furnishings</td>\n",
       "      <td>Credit Card</td>\n",
       "    </tr>\n",
       "  </tbody>\n",
       "</table>\n",
       "</div>"
      ],
      "text/plain": [
       "   Order ID  CustomerID   Amount     Profit  Quantity ordered new  \\\n",
       "0     88522        4666    11.36     4.5600                     4   \n",
       "1     90193        4663  6011.76  4390.3665                    12   \n",
       "2     90192        2583   208.56   -53.8096                    22   \n",
       "\n",
       "  Product Category Product Sub-Category Payment Mode  \n",
       "0  Office Supplies  Pens & Art Supplies  Credit Card  \n",
       "1        Furniture   Chairs & Chairmats  Credit Card  \n",
       "2        Furniture   Office Furnishings  Credit Card  "
      ]
     },
     "execution_count": 14,
     "metadata": {},
     "output_type": "execute_result"
    }
   ],
   "source": [
    "orders.head(3)"
   ]
  },
  {
   "cell_type": "code",
   "execution_count": 16,
   "id": "b61b8893-d146-4588-92ac-7e84ae7b5c99",
   "metadata": {},
   "outputs": [
    {
     "data": {
      "text/plain": [
       "CustomerID           0\n",
       "CustomerID.1         0\n",
       "Order Date           0\n",
       "Month                0\n",
       "MonthName            0\n",
       "DateInText           0\n",
       "Customer Name        0\n",
       "State or Province    0\n",
       "City                 0\n",
       "Gender               0\n",
       "Gender.1             0\n",
       "Gender.2             0\n",
       "dtype: int64"
      ]
     },
     "execution_count": 16,
     "metadata": {},
     "output_type": "execute_result"
    }
   ],
   "source": [
    "# Checking for cleaning process\n",
    "customer.isnull().sum()"
   ]
  },
  {
   "cell_type": "code",
   "execution_count": 17,
   "id": "1b8753ec-37f9-4826-b588-b9d32bf40d12",
   "metadata": {},
   "outputs": [
    {
     "data": {
      "text/html": [
       "<div>\n",
       "<style scoped>\n",
       "    .dataframe tbody tr th:only-of-type {\n",
       "        vertical-align: middle;\n",
       "    }\n",
       "\n",
       "    .dataframe tbody tr th {\n",
       "        vertical-align: top;\n",
       "    }\n",
       "\n",
       "    .dataframe thead th {\n",
       "        text-align: right;\n",
       "    }\n",
       "</style>\n",
       "<table border=\"1\" class=\"dataframe\">\n",
       "  <thead>\n",
       "    <tr style=\"text-align: right;\">\n",
       "      <th></th>\n",
       "      <th>CustomerID</th>\n",
       "      <th>CustomerID.1</th>\n",
       "      <th>Order Date</th>\n",
       "      <th>Month</th>\n",
       "      <th>MonthName</th>\n",
       "      <th>DateInText</th>\n",
       "      <th>Customer Name</th>\n",
       "      <th>State or Province</th>\n",
       "      <th>City</th>\n",
       "      <th>Gender</th>\n",
       "      <th>Gender.1</th>\n",
       "      <th>Gender.2</th>\n",
       "    </tr>\n",
       "  </thead>\n",
       "  <tbody>\n",
       "    <tr>\n",
       "      <th>0</th>\n",
       "      <td>CUS7253</td>\n",
       "      <td>7253</td>\n",
       "      <td>2015-01-07</td>\n",
       "      <td>1</td>\n",
       "      <td>Jan</td>\n",
       "      <td>01/07/2015</td>\n",
       "      <td>Bonnie Potter</td>\n",
       "      <td>Washington</td>\n",
       "      <td>Anacortes</td>\n",
       "      <td>M</td>\n",
       "      <td>1</td>\n",
       "      <td>MALE</td>\n",
       "    </tr>\n",
       "    <tr>\n",
       "      <th>1</th>\n",
       "      <td>CUS4875</td>\n",
       "      <td>4875</td>\n",
       "      <td>2015-06-13</td>\n",
       "      <td>6</td>\n",
       "      <td>Jun</td>\n",
       "      <td>06/13/2015</td>\n",
       "      <td>Ronnie Proctor</td>\n",
       "      <td>California</td>\n",
       "      <td>San Gabriel</td>\n",
       "      <td>F</td>\n",
       "      <td>0</td>\n",
       "      <td>FEMALE</td>\n",
       "    </tr>\n",
       "  </tbody>\n",
       "</table>\n",
       "</div>"
      ],
      "text/plain": [
       "  CustomerID  CustomerID.1 Order Date  Month MonthName  DateInText  \\\n",
       "0    CUS7253          7253 2015-01-07      1       Jan  01/07/2015   \n",
       "1    CUS4875          4875 2015-06-13      6       Jun  06/13/2015   \n",
       "\n",
       "    Customer Name State or Province         City Gender  Gender.1 Gender.2  \n",
       "0   Bonnie Potter        Washington    Anacortes      M         1     MALE  \n",
       "1  Ronnie Proctor        California  San Gabriel      F         0   FEMALE  "
      ]
     },
     "execution_count": 17,
     "metadata": {},
     "output_type": "execute_result"
    }
   ],
   "source": [
    "customer.head(2)"
   ]
  },
  {
   "cell_type": "code",
   "execution_count": 18,
   "id": "5cd78b6b-4144-4cd9-a05a-8aa09d317df3",
   "metadata": {},
   "outputs": [
    {
     "data": {
      "text/plain": [
       "Index(['CustomerID', 'CustomerID.1', 'Order Date', 'Month', 'MonthName',\n",
       "       'DateInText', 'Customer Name', 'State or Province', 'City', 'Gender',\n",
       "       'Gender.1', 'Gender.2'],\n",
       "      dtype='object')"
      ]
     },
     "execution_count": 18,
     "metadata": {},
     "output_type": "execute_result"
    }
   ],
   "source": [
    "customer.columns"
   ]
  },
  {
   "cell_type": "code",
   "execution_count": 19,
   "id": "7cdb4314-0244-452a-9c17-7c3649fe6d81",
   "metadata": {},
   "outputs": [],
   "source": [
    "customer = customer.drop(columns=['CustomerID','Month', 'MonthName','DateInText','Gender.1', 'Gender.2'])"
   ]
  },
  {
   "cell_type": "code",
   "execution_count": 20,
   "id": "43c0b83d-54c1-465e-b8c3-b33765154632",
   "metadata": {},
   "outputs": [
    {
     "data": {
      "text/html": [
       "<div>\n",
       "<style scoped>\n",
       "    .dataframe tbody tr th:only-of-type {\n",
       "        vertical-align: middle;\n",
       "    }\n",
       "\n",
       "    .dataframe tbody tr th {\n",
       "        vertical-align: top;\n",
       "    }\n",
       "\n",
       "    .dataframe thead th {\n",
       "        text-align: right;\n",
       "    }\n",
       "</style>\n",
       "<table border=\"1\" class=\"dataframe\">\n",
       "  <thead>\n",
       "    <tr style=\"text-align: right;\">\n",
       "      <th></th>\n",
       "      <th>CustomerID.1</th>\n",
       "      <th>Order Date</th>\n",
       "      <th>Customer Name</th>\n",
       "      <th>State or Province</th>\n",
       "      <th>City</th>\n",
       "      <th>Gender</th>\n",
       "    </tr>\n",
       "  </thead>\n",
       "  <tbody>\n",
       "    <tr>\n",
       "      <th>0</th>\n",
       "      <td>7253</td>\n",
       "      <td>2015-01-07</td>\n",
       "      <td>Bonnie Potter</td>\n",
       "      <td>Washington</td>\n",
       "      <td>Anacortes</td>\n",
       "      <td>M</td>\n",
       "    </tr>\n",
       "    <tr>\n",
       "      <th>1</th>\n",
       "      <td>4875</td>\n",
       "      <td>2015-06-13</td>\n",
       "      <td>Ronnie Proctor</td>\n",
       "      <td>California</td>\n",
       "      <td>San Gabriel</td>\n",
       "      <td>F</td>\n",
       "    </tr>\n",
       "    <tr>\n",
       "      <th>2</th>\n",
       "      <td>2748</td>\n",
       "      <td>2015-02-15</td>\n",
       "      <td>Marcus Dunlap</td>\n",
       "      <td>New Jersey</td>\n",
       "      <td>Roselle</td>\n",
       "      <td>M</td>\n",
       "    </tr>\n",
       "  </tbody>\n",
       "</table>\n",
       "</div>"
      ],
      "text/plain": [
       "   CustomerID.1 Order Date   Customer Name State or Province         City  \\\n",
       "0          7253 2015-01-07   Bonnie Potter        Washington    Anacortes   \n",
       "1          4875 2015-06-13  Ronnie Proctor        California  San Gabriel   \n",
       "2          2748 2015-02-15   Marcus Dunlap        New Jersey      Roselle   \n",
       "\n",
       "  Gender  \n",
       "0      M  \n",
       "1      F  \n",
       "2      M  "
      ]
     },
     "execution_count": 20,
     "metadata": {},
     "output_type": "execute_result"
    }
   ],
   "source": [
    "customer.head(3)"
   ]
  },
  {
   "cell_type": "code",
   "execution_count": 21,
   "id": "841904b5-7d5b-4364-acc5-e27ae37798cb",
   "metadata": {},
   "outputs": [
    {
     "data": {
      "text/plain": [
       "(24, 6)"
      ]
     },
     "execution_count": 21,
     "metadata": {},
     "output_type": "execute_result"
    }
   ],
   "source": [
    "customer.shape"
   ]
  },
  {
   "cell_type": "code",
   "execution_count": 22,
   "id": "d421ca7e-6fc9-4723-a447-6e701df331a2",
   "metadata": {},
   "outputs": [],
   "source": [
    "# Cleaning orders dataset"
   ]
  },
  {
   "cell_type": "code",
   "execution_count": 23,
   "id": "e73825b3-782c-4b58-a9ce-ff73903ae506",
   "metadata": {},
   "outputs": [
    {
     "data": {
      "text/html": [
       "<div>\n",
       "<style scoped>\n",
       "    .dataframe tbody tr th:only-of-type {\n",
       "        vertical-align: middle;\n",
       "    }\n",
       "\n",
       "    .dataframe tbody tr th {\n",
       "        vertical-align: top;\n",
       "    }\n",
       "\n",
       "    .dataframe thead th {\n",
       "        text-align: right;\n",
       "    }\n",
       "</style>\n",
       "<table border=\"1\" class=\"dataframe\">\n",
       "  <thead>\n",
       "    <tr style=\"text-align: right;\">\n",
       "      <th></th>\n",
       "      <th>Order ID</th>\n",
       "      <th>CustomerID</th>\n",
       "      <th>Amount</th>\n",
       "      <th>Profit</th>\n",
       "      <th>Quantity ordered new</th>\n",
       "      <th>Product Category</th>\n",
       "      <th>Product Sub-Category</th>\n",
       "      <th>Payment Mode</th>\n",
       "    </tr>\n",
       "  </thead>\n",
       "  <tbody>\n",
       "    <tr>\n",
       "      <th>0</th>\n",
       "      <td>88522</td>\n",
       "      <td>4666</td>\n",
       "      <td>11.36</td>\n",
       "      <td>4.5600</td>\n",
       "      <td>4</td>\n",
       "      <td>Office Supplies</td>\n",
       "      <td>Pens &amp; Art Supplies</td>\n",
       "      <td>Credit Card</td>\n",
       "    </tr>\n",
       "    <tr>\n",
       "      <th>1</th>\n",
       "      <td>90193</td>\n",
       "      <td>4663</td>\n",
       "      <td>6011.76</td>\n",
       "      <td>4390.3665</td>\n",
       "      <td>12</td>\n",
       "      <td>Furniture</td>\n",
       "      <td>Chairs &amp; Chairmats</td>\n",
       "      <td>Credit Card</td>\n",
       "    </tr>\n",
       "  </tbody>\n",
       "</table>\n",
       "</div>"
      ],
      "text/plain": [
       "   Order ID  CustomerID   Amount     Profit  Quantity ordered new  \\\n",
       "0     88522        4666    11.36     4.5600                     4   \n",
       "1     90193        4663  6011.76  4390.3665                    12   \n",
       "\n",
       "  Product Category Product Sub-Category Payment Mode  \n",
       "0  Office Supplies  Pens & Art Supplies  Credit Card  \n",
       "1        Furniture   Chairs & Chairmats  Credit Card  "
      ]
     },
     "execution_count": 23,
     "metadata": {},
     "output_type": "execute_result"
    }
   ],
   "source": [
    "orders.head(2)"
   ]
  },
  {
   "cell_type": "code",
   "execution_count": 24,
   "id": "3f0bf893-5d8c-46ec-9021-d7459ae2a5b0",
   "metadata": {},
   "outputs": [
    {
     "data": {
      "text/plain": [
       "Order ID                0\n",
       "CustomerID              0\n",
       "Amount                  0\n",
       "Profit                  0\n",
       "Quantity ordered new    0\n",
       "Product Category        0\n",
       "Product Sub-Category    0\n",
       "Payment Mode            0\n",
       "dtype: int64"
      ]
     },
     "execution_count": 24,
     "metadata": {},
     "output_type": "execute_result"
    }
   ],
   "source": [
    "orders.isnull().sum()"
   ]
  },
  {
   "cell_type": "code",
   "execution_count": 25,
   "id": "63e3245a-aeb5-47a9-becb-63576125986b",
   "metadata": {},
   "outputs": [],
   "source": [
    "orders = orders.drop(columns=['Order ID'])"
   ]
  },
  {
   "cell_type": "code",
   "execution_count": 26,
   "id": "a55f4be3-ca57-4a68-9fc3-d33fd6c8a61e",
   "metadata": {},
   "outputs": [
    {
     "data": {
      "text/html": [
       "<div>\n",
       "<style scoped>\n",
       "    .dataframe tbody tr th:only-of-type {\n",
       "        vertical-align: middle;\n",
       "    }\n",
       "\n",
       "    .dataframe tbody tr th {\n",
       "        vertical-align: top;\n",
       "    }\n",
       "\n",
       "    .dataframe thead th {\n",
       "        text-align: right;\n",
       "    }\n",
       "</style>\n",
       "<table border=\"1\" class=\"dataframe\">\n",
       "  <thead>\n",
       "    <tr style=\"text-align: right;\">\n",
       "      <th></th>\n",
       "      <th>CustomerID</th>\n",
       "      <th>Amount</th>\n",
       "      <th>Profit</th>\n",
       "      <th>Quantity ordered new</th>\n",
       "      <th>Product Category</th>\n",
       "      <th>Product Sub-Category</th>\n",
       "      <th>Payment Mode</th>\n",
       "    </tr>\n",
       "  </thead>\n",
       "  <tbody>\n",
       "    <tr>\n",
       "      <th>0</th>\n",
       "      <td>4666</td>\n",
       "      <td>11.36</td>\n",
       "      <td>4.5600</td>\n",
       "      <td>4</td>\n",
       "      <td>Office Supplies</td>\n",
       "      <td>Pens &amp; Art Supplies</td>\n",
       "      <td>Credit Card</td>\n",
       "    </tr>\n",
       "    <tr>\n",
       "      <th>1</th>\n",
       "      <td>4663</td>\n",
       "      <td>6011.76</td>\n",
       "      <td>4390.3665</td>\n",
       "      <td>12</td>\n",
       "      <td>Furniture</td>\n",
       "      <td>Chairs &amp; Chairmats</td>\n",
       "      <td>Credit Card</td>\n",
       "    </tr>\n",
       "  </tbody>\n",
       "</table>\n",
       "</div>"
      ],
      "text/plain": [
       "   CustomerID   Amount     Profit  Quantity ordered new Product Category  \\\n",
       "0        4666    11.36     4.5600                     4  Office Supplies   \n",
       "1        4663  6011.76  4390.3665                    12        Furniture   \n",
       "\n",
       "  Product Sub-Category Payment Mode  \n",
       "0  Pens & Art Supplies  Credit Card  \n",
       "1   Chairs & Chairmats  Credit Card  "
      ]
     },
     "execution_count": 26,
     "metadata": {},
     "output_type": "execute_result"
    }
   ],
   "source": [
    "orders.head(2)"
   ]
  },
  {
   "cell_type": "code",
   "execution_count": 27,
   "id": "5cdc6c78-27a7-4044-b910-3723f825b726",
   "metadata": {},
   "outputs": [
    {
     "data": {
      "text/plain": [
       "(1952, 7)"
      ]
     },
     "execution_count": 27,
     "metadata": {},
     "output_type": "execute_result"
    }
   ],
   "source": [
    "orders.shape"
   ]
  },
  {
   "cell_type": "code",
   "execution_count": 28,
   "id": "cb6b5e94-f294-47b2-9d9b-9b365d4aa723",
   "metadata": {},
   "outputs": [],
   "source": [
    "# Group BY functions"
   ]
  },
  {
   "cell_type": "code",
   "execution_count": 30,
   "id": "d79590a2-7532-435a-8d21-cfc537f2cf23",
   "metadata": {},
   "outputs": [
    {
     "data": {
      "text/plain": [
       "array(['Office Supplies', 'Furniture', 'Technology'], dtype=object)"
      ]
     },
     "execution_count": 30,
     "metadata": {},
     "output_type": "execute_result"
    }
   ],
   "source": [
    "orders['Product Category'].unique()"
   ]
  },
  {
   "cell_type": "code",
   "execution_count": 34,
   "id": "9d164571-00c5-4f2c-ad6e-f4cf2d271b7f",
   "metadata": {},
   "outputs": [
    {
     "name": "stdout",
     "output_type": "stream",
     "text": [
      "Total Profit :  224114.64 INR\n"
     ]
    }
   ],
   "source": [
    "print(\"Total Profit : \",round(orders['Profit'].sum(),2),\"INR\")"
   ]
  },
  {
   "cell_type": "code",
   "execution_count": 36,
   "id": "8a8d4310-f7f1-4269-bf94-498c47249e1c",
   "metadata": {},
   "outputs": [
    {
     "data": {
      "text/html": [
       "<div>\n",
       "<style scoped>\n",
       "    .dataframe tbody tr th:only-of-type {\n",
       "        vertical-align: middle;\n",
       "    }\n",
       "\n",
       "    .dataframe tbody tr th {\n",
       "        vertical-align: top;\n",
       "    }\n",
       "\n",
       "    .dataframe thead th {\n",
       "        text-align: right;\n",
       "    }\n",
       "</style>\n",
       "<table border=\"1\" class=\"dataframe\">\n",
       "  <thead>\n",
       "    <tr style=\"text-align: right;\">\n",
       "      <th></th>\n",
       "      <th>Profit</th>\n",
       "    </tr>\n",
       "    <tr>\n",
       "      <th>Product Category</th>\n",
       "      <th></th>\n",
       "    </tr>\n",
       "  </thead>\n",
       "  <tbody>\n",
       "    <tr>\n",
       "      <th>Furniture</th>\n",
       "      <td>59249.445936</td>\n",
       "    </tr>\n",
       "    <tr>\n",
       "      <th>Office Supplies</th>\n",
       "      <td>89562.039537</td>\n",
       "    </tr>\n",
       "    <tr>\n",
       "      <th>Technology</th>\n",
       "      <td>75303.156364</td>\n",
       "    </tr>\n",
       "  </tbody>\n",
       "</table>\n",
       "</div>"
      ],
      "text/plain": [
       "                        Profit\n",
       "Product Category              \n",
       "Furniture         59249.445936\n",
       "Office Supplies   89562.039537\n",
       "Technology        75303.156364"
      ]
     },
     "execution_count": 36,
     "metadata": {},
     "output_type": "execute_result"
    }
   ],
   "source": [
    "orders.groupby(['Product Category']).agg({'Profit':'sum'})"
   ]
  },
  {
   "cell_type": "code",
   "execution_count": 37,
   "id": "28e98a31-3304-480b-ac1f-31907b79941a",
   "metadata": {},
   "outputs": [
    {
     "data": {
      "text/html": [
       "<div>\n",
       "<style scoped>\n",
       "    .dataframe tbody tr th:only-of-type {\n",
       "        vertical-align: middle;\n",
       "    }\n",
       "\n",
       "    .dataframe tbody tr th {\n",
       "        vertical-align: top;\n",
       "    }\n",
       "\n",
       "    .dataframe thead th {\n",
       "        text-align: right;\n",
       "    }\n",
       "</style>\n",
       "<table border=\"1\" class=\"dataframe\">\n",
       "  <thead>\n",
       "    <tr style=\"text-align: right;\">\n",
       "      <th></th>\n",
       "      <th>Product Category</th>\n",
       "      <th>Profit</th>\n",
       "    </tr>\n",
       "  </thead>\n",
       "  <tbody>\n",
       "    <tr>\n",
       "      <th>0</th>\n",
       "      <td>Furniture</td>\n",
       "      <td>59249.445936</td>\n",
       "    </tr>\n",
       "    <tr>\n",
       "      <th>1</th>\n",
       "      <td>Office Supplies</td>\n",
       "      <td>89562.039537</td>\n",
       "    </tr>\n",
       "    <tr>\n",
       "      <th>2</th>\n",
       "      <td>Technology</td>\n",
       "      <td>75303.156364</td>\n",
       "    </tr>\n",
       "  </tbody>\n",
       "</table>\n",
       "</div>"
      ],
      "text/plain": [
       "  Product Category        Profit\n",
       "0        Furniture  59249.445936\n",
       "1  Office Supplies  89562.039537\n",
       "2       Technology  75303.156364"
      ]
     },
     "execution_count": 37,
     "metadata": {},
     "output_type": "execute_result"
    }
   ],
   "source": [
    "orders.groupby(['Product Category']).agg({'Profit':'sum'}).reset_index()"
   ]
  },
  {
   "cell_type": "code",
   "execution_count": 38,
   "id": "656c58c7-80b8-4025-a575-88053cc23501",
   "metadata": {},
   "outputs": [],
   "source": [
    "pbc = orders.groupby(['Product Category']).agg({'Profit':'sum'}).reset_index()"
   ]
  },
  {
   "cell_type": "code",
   "execution_count": 40,
   "id": "caa59743-2312-43e5-9441-cb7f6cca1bdf",
   "metadata": {},
   "outputs": [
    {
     "data": {
      "text/html": [
       "<div>\n",
       "<style scoped>\n",
       "    .dataframe tbody tr th:only-of-type {\n",
       "        vertical-align: middle;\n",
       "    }\n",
       "\n",
       "    .dataframe tbody tr th {\n",
       "        vertical-align: top;\n",
       "    }\n",
       "\n",
       "    .dataframe thead th {\n",
       "        text-align: right;\n",
       "    }\n",
       "</style>\n",
       "<table border=\"1\" class=\"dataframe\">\n",
       "  <thead>\n",
       "    <tr style=\"text-align: right;\">\n",
       "      <th></th>\n",
       "      <th>Product Sub-Category</th>\n",
       "      <th>Profit</th>\n",
       "    </tr>\n",
       "  </thead>\n",
       "  <tbody>\n",
       "    <tr>\n",
       "      <th>0</th>\n",
       "      <td>Appliances</td>\n",
       "      <td>12594.820600</td>\n",
       "    </tr>\n",
       "    <tr>\n",
       "      <th>1</th>\n",
       "      <td>Binders and Binder Accessories</td>\n",
       "      <td>59296.389430</td>\n",
       "    </tr>\n",
       "    <tr>\n",
       "      <th>2</th>\n",
       "      <td>Bookcases</td>\n",
       "      <td>-930.438400</td>\n",
       "    </tr>\n",
       "    <tr>\n",
       "      <th>3</th>\n",
       "      <td>Chairs &amp; Chairmats</td>\n",
       "      <td>48695.836600</td>\n",
       "    </tr>\n",
       "    <tr>\n",
       "      <th>4</th>\n",
       "      <td>Computer Peripherals</td>\n",
       "      <td>1698.043980</td>\n",
       "    </tr>\n",
       "    <tr>\n",
       "      <th>5</th>\n",
       "      <td>Copiers and Fax</td>\n",
       "      <td>23990.207580</td>\n",
       "    </tr>\n",
       "    <tr>\n",
       "      <th>6</th>\n",
       "      <td>Envelopes</td>\n",
       "      <td>-1194.412500</td>\n",
       "    </tr>\n",
       "    <tr>\n",
       "      <th>7</th>\n",
       "      <td>Labels</td>\n",
       "      <td>7028.159500</td>\n",
       "    </tr>\n",
       "    <tr>\n",
       "      <th>8</th>\n",
       "      <td>Office Furnishings</td>\n",
       "      <td>18724.119100</td>\n",
       "    </tr>\n",
       "    <tr>\n",
       "      <th>9</th>\n",
       "      <td>Office Machines</td>\n",
       "      <td>8824.390564</td>\n",
       "    </tr>\n",
       "    <tr>\n",
       "      <th>10</th>\n",
       "      <td>Paper</td>\n",
       "      <td>7769.315070</td>\n",
       "    </tr>\n",
       "    <tr>\n",
       "      <th>11</th>\n",
       "      <td>Pens &amp; Art Supplies</td>\n",
       "      <td>-220.598800</td>\n",
       "    </tr>\n",
       "    <tr>\n",
       "      <th>12</th>\n",
       "      <td>Rubber Bands</td>\n",
       "      <td>-1544.826063</td>\n",
       "    </tr>\n",
       "    <tr>\n",
       "      <th>13</th>\n",
       "      <td>Scissors, Rulers and Trimmers</td>\n",
       "      <td>-1291.095900</td>\n",
       "    </tr>\n",
       "    <tr>\n",
       "      <th>14</th>\n",
       "      <td>Storage &amp; Organization</td>\n",
       "      <td>7124.288200</td>\n",
       "    </tr>\n",
       "    <tr>\n",
       "      <th>15</th>\n",
       "      <td>Tables</td>\n",
       "      <td>-7240.071364</td>\n",
       "    </tr>\n",
       "    <tr>\n",
       "      <th>16</th>\n",
       "      <td>Telephones and Communication</td>\n",
       "      <td>40790.514240</td>\n",
       "    </tr>\n",
       "  </tbody>\n",
       "</table>\n",
       "</div>"
      ],
      "text/plain": [
       "              Product Sub-Category        Profit\n",
       "0                       Appliances  12594.820600\n",
       "1   Binders and Binder Accessories  59296.389430\n",
       "2                        Bookcases   -930.438400\n",
       "3               Chairs & Chairmats  48695.836600\n",
       "4             Computer Peripherals   1698.043980\n",
       "5                  Copiers and Fax  23990.207580\n",
       "6                        Envelopes  -1194.412500\n",
       "7                           Labels   7028.159500\n",
       "8               Office Furnishings  18724.119100\n",
       "9                  Office Machines   8824.390564\n",
       "10                           Paper   7769.315070\n",
       "11             Pens & Art Supplies   -220.598800\n",
       "12                    Rubber Bands  -1544.826063\n",
       "13   Scissors, Rulers and Trimmers  -1291.095900\n",
       "14          Storage & Organization   7124.288200\n",
       "15                          Tables  -7240.071364\n",
       "16    Telephones and Communication  40790.514240"
      ]
     },
     "execution_count": 40,
     "metadata": {},
     "output_type": "execute_result"
    }
   ],
   "source": [
    "orders.groupby(['Product Sub-Category']).agg({'Profit':'sum'}).reset_index()"
   ]
  },
  {
   "cell_type": "code",
   "execution_count": 39,
   "id": "3fae29a5-4c16-4218-98d1-999e92886180",
   "metadata": {},
   "outputs": [
    {
     "data": {
      "text/html": [
       "<div>\n",
       "<style scoped>\n",
       "    .dataframe tbody tr th:only-of-type {\n",
       "        vertical-align: middle;\n",
       "    }\n",
       "\n",
       "    .dataframe tbody tr th {\n",
       "        vertical-align: top;\n",
       "    }\n",
       "\n",
       "    .dataframe thead th {\n",
       "        text-align: right;\n",
       "    }\n",
       "</style>\n",
       "<table border=\"1\" class=\"dataframe\">\n",
       "  <thead>\n",
       "    <tr style=\"text-align: right;\">\n",
       "      <th></th>\n",
       "      <th>Product Category</th>\n",
       "      <th>Profit</th>\n",
       "    </tr>\n",
       "  </thead>\n",
       "  <tbody>\n",
       "    <tr>\n",
       "      <th>0</th>\n",
       "      <td>Furniture</td>\n",
       "      <td>59249.445936</td>\n",
       "    </tr>\n",
       "    <tr>\n",
       "      <th>1</th>\n",
       "      <td>Office Supplies</td>\n",
       "      <td>89562.039537</td>\n",
       "    </tr>\n",
       "    <tr>\n",
       "      <th>2</th>\n",
       "      <td>Technology</td>\n",
       "      <td>75303.156364</td>\n",
       "    </tr>\n",
       "  </tbody>\n",
       "</table>\n",
       "</div>"
      ],
      "text/plain": [
       "  Product Category        Profit\n",
       "0        Furniture  59249.445936\n",
       "1  Office Supplies  89562.039537\n",
       "2       Technology  75303.156364"
      ]
     },
     "execution_count": 39,
     "metadata": {},
     "output_type": "execute_result"
    }
   ],
   "source": [
    "pbc"
   ]
  },
  {
   "cell_type": "code",
   "execution_count": 41,
   "id": "c3ba8635-5db4-4667-944e-cce5b898f9ef",
   "metadata": {},
   "outputs": [
    {
     "data": {
      "text/html": [
       "<div>\n",
       "<style scoped>\n",
       "    .dataframe tbody tr th:only-of-type {\n",
       "        vertical-align: middle;\n",
       "    }\n",
       "\n",
       "    .dataframe tbody tr th {\n",
       "        vertical-align: top;\n",
       "    }\n",
       "\n",
       "    .dataframe thead th {\n",
       "        text-align: right;\n",
       "    }\n",
       "</style>\n",
       "<table border=\"1\" class=\"dataframe\">\n",
       "  <thead>\n",
       "    <tr style=\"text-align: right;\">\n",
       "      <th></th>\n",
       "      <th>Product Category</th>\n",
       "      <th>Product Sub-Category</th>\n",
       "      <th>Profit</th>\n",
       "    </tr>\n",
       "  </thead>\n",
       "  <tbody>\n",
       "    <tr>\n",
       "      <th>0</th>\n",
       "      <td>Furniture</td>\n",
       "      <td>Bookcases</td>\n",
       "      <td>-930.438400</td>\n",
       "    </tr>\n",
       "    <tr>\n",
       "      <th>1</th>\n",
       "      <td>Furniture</td>\n",
       "      <td>Chairs &amp; Chairmats</td>\n",
       "      <td>48695.836600</td>\n",
       "    </tr>\n",
       "    <tr>\n",
       "      <th>2</th>\n",
       "      <td>Furniture</td>\n",
       "      <td>Office Furnishings</td>\n",
       "      <td>18724.119100</td>\n",
       "    </tr>\n",
       "    <tr>\n",
       "      <th>3</th>\n",
       "      <td>Furniture</td>\n",
       "      <td>Tables</td>\n",
       "      <td>-7240.071364</td>\n",
       "    </tr>\n",
       "    <tr>\n",
       "      <th>4</th>\n",
       "      <td>Office Supplies</td>\n",
       "      <td>Appliances</td>\n",
       "      <td>12594.820600</td>\n",
       "    </tr>\n",
       "    <tr>\n",
       "      <th>5</th>\n",
       "      <td>Office Supplies</td>\n",
       "      <td>Binders and Binder Accessories</td>\n",
       "      <td>59296.389430</td>\n",
       "    </tr>\n",
       "    <tr>\n",
       "      <th>6</th>\n",
       "      <td>Office Supplies</td>\n",
       "      <td>Envelopes</td>\n",
       "      <td>-1194.412500</td>\n",
       "    </tr>\n",
       "    <tr>\n",
       "      <th>7</th>\n",
       "      <td>Office Supplies</td>\n",
       "      <td>Labels</td>\n",
       "      <td>7028.159500</td>\n",
       "    </tr>\n",
       "    <tr>\n",
       "      <th>8</th>\n",
       "      <td>Office Supplies</td>\n",
       "      <td>Paper</td>\n",
       "      <td>7769.315070</td>\n",
       "    </tr>\n",
       "    <tr>\n",
       "      <th>9</th>\n",
       "      <td>Office Supplies</td>\n",
       "      <td>Pens &amp; Art Supplies</td>\n",
       "      <td>-220.598800</td>\n",
       "    </tr>\n",
       "    <tr>\n",
       "      <th>10</th>\n",
       "      <td>Office Supplies</td>\n",
       "      <td>Rubber Bands</td>\n",
       "      <td>-1544.826063</td>\n",
       "    </tr>\n",
       "    <tr>\n",
       "      <th>11</th>\n",
       "      <td>Office Supplies</td>\n",
       "      <td>Scissors, Rulers and Trimmers</td>\n",
       "      <td>-1291.095900</td>\n",
       "    </tr>\n",
       "    <tr>\n",
       "      <th>12</th>\n",
       "      <td>Office Supplies</td>\n",
       "      <td>Storage &amp; Organization</td>\n",
       "      <td>7124.288200</td>\n",
       "    </tr>\n",
       "    <tr>\n",
       "      <th>13</th>\n",
       "      <td>Technology</td>\n",
       "      <td>Computer Peripherals</td>\n",
       "      <td>1698.043980</td>\n",
       "    </tr>\n",
       "    <tr>\n",
       "      <th>14</th>\n",
       "      <td>Technology</td>\n",
       "      <td>Copiers and Fax</td>\n",
       "      <td>23990.207580</td>\n",
       "    </tr>\n",
       "    <tr>\n",
       "      <th>15</th>\n",
       "      <td>Technology</td>\n",
       "      <td>Office Machines</td>\n",
       "      <td>8824.390564</td>\n",
       "    </tr>\n",
       "    <tr>\n",
       "      <th>16</th>\n",
       "      <td>Technology</td>\n",
       "      <td>Telephones and Communication</td>\n",
       "      <td>40790.514240</td>\n",
       "    </tr>\n",
       "  </tbody>\n",
       "</table>\n",
       "</div>"
      ],
      "text/plain": [
       "   Product Category            Product Sub-Category        Profit\n",
       "0         Furniture                       Bookcases   -930.438400\n",
       "1         Furniture              Chairs & Chairmats  48695.836600\n",
       "2         Furniture              Office Furnishings  18724.119100\n",
       "3         Furniture                          Tables  -7240.071364\n",
       "4   Office Supplies                      Appliances  12594.820600\n",
       "5   Office Supplies  Binders and Binder Accessories  59296.389430\n",
       "6   Office Supplies                       Envelopes  -1194.412500\n",
       "7   Office Supplies                          Labels   7028.159500\n",
       "8   Office Supplies                           Paper   7769.315070\n",
       "9   Office Supplies             Pens & Art Supplies   -220.598800\n",
       "10  Office Supplies                    Rubber Bands  -1544.826063\n",
       "11  Office Supplies   Scissors, Rulers and Trimmers  -1291.095900\n",
       "12  Office Supplies          Storage & Organization   7124.288200\n",
       "13       Technology            Computer Peripherals   1698.043980\n",
       "14       Technology                 Copiers and Fax  23990.207580\n",
       "15       Technology                 Office Machines   8824.390564\n",
       "16       Technology    Telephones and Communication  40790.514240"
      ]
     },
     "execution_count": 41,
     "metadata": {},
     "output_type": "execute_result"
    }
   ],
   "source": [
    "orders.groupby(['Product Category','Product Sub-Category']).agg({'Profit':'sum'}).reset_index()"
   ]
  },
  {
   "cell_type": "code",
   "execution_count": 42,
   "id": "64bec78b-d7df-4f3d-8d84-fa766001afe4",
   "metadata": {},
   "outputs": [
    {
     "data": {
      "text/html": [
       "<div>\n",
       "<style scoped>\n",
       "    .dataframe tbody tr th:only-of-type {\n",
       "        vertical-align: middle;\n",
       "    }\n",
       "\n",
       "    .dataframe tbody tr th {\n",
       "        vertical-align: top;\n",
       "    }\n",
       "\n",
       "    .dataframe thead th {\n",
       "        text-align: right;\n",
       "    }\n",
       "</style>\n",
       "<table border=\"1\" class=\"dataframe\">\n",
       "  <thead>\n",
       "    <tr style=\"text-align: right;\">\n",
       "      <th></th>\n",
       "      <th>CustomerID.1</th>\n",
       "      <th>Order Date</th>\n",
       "      <th>Customer Name</th>\n",
       "      <th>State or Province</th>\n",
       "      <th>City</th>\n",
       "      <th>Gender</th>\n",
       "    </tr>\n",
       "  </thead>\n",
       "  <tbody>\n",
       "    <tr>\n",
       "      <th>0</th>\n",
       "      <td>7253</td>\n",
       "      <td>2015-01-07</td>\n",
       "      <td>Bonnie Potter</td>\n",
       "      <td>Washington</td>\n",
       "      <td>Anacortes</td>\n",
       "      <td>M</td>\n",
       "    </tr>\n",
       "    <tr>\n",
       "      <th>1</th>\n",
       "      <td>4875</td>\n",
       "      <td>2015-06-13</td>\n",
       "      <td>Ronnie Proctor</td>\n",
       "      <td>California</td>\n",
       "      <td>San Gabriel</td>\n",
       "      <td>F</td>\n",
       "    </tr>\n",
       "  </tbody>\n",
       "</table>\n",
       "</div>"
      ],
      "text/plain": [
       "   CustomerID.1 Order Date   Customer Name State or Province         City  \\\n",
       "0          7253 2015-01-07   Bonnie Potter        Washington    Anacortes   \n",
       "1          4875 2015-06-13  Ronnie Proctor        California  San Gabriel   \n",
       "\n",
       "  Gender  \n",
       "0      M  \n",
       "1      F  "
      ]
     },
     "execution_count": 42,
     "metadata": {},
     "output_type": "execute_result"
    }
   ],
   "source": [
    "customer.head(2)"
   ]
  },
  {
   "cell_type": "code",
   "execution_count": 43,
   "id": "9e638ec9-9371-4e22-9cd2-f9611f7a0145",
   "metadata": {},
   "outputs": [
    {
     "data": {
      "text/html": [
       "<div>\n",
       "<style scoped>\n",
       "    .dataframe tbody tr th:only-of-type {\n",
       "        vertical-align: middle;\n",
       "    }\n",
       "\n",
       "    .dataframe tbody tr th {\n",
       "        vertical-align: top;\n",
       "    }\n",
       "\n",
       "    .dataframe thead th {\n",
       "        text-align: right;\n",
       "    }\n",
       "</style>\n",
       "<table border=\"1\" class=\"dataframe\">\n",
       "  <thead>\n",
       "    <tr style=\"text-align: right;\">\n",
       "      <th></th>\n",
       "      <th>CustomerID</th>\n",
       "      <th>Amount</th>\n",
       "      <th>Profit</th>\n",
       "      <th>Quantity ordered new</th>\n",
       "      <th>Product Category</th>\n",
       "      <th>Product Sub-Category</th>\n",
       "      <th>Payment Mode</th>\n",
       "    </tr>\n",
       "  </thead>\n",
       "  <tbody>\n",
       "    <tr>\n",
       "      <th>0</th>\n",
       "      <td>4666</td>\n",
       "      <td>11.36</td>\n",
       "      <td>4.5600</td>\n",
       "      <td>4</td>\n",
       "      <td>Office Supplies</td>\n",
       "      <td>Pens &amp; Art Supplies</td>\n",
       "      <td>Credit Card</td>\n",
       "    </tr>\n",
       "    <tr>\n",
       "      <th>1</th>\n",
       "      <td>4663</td>\n",
       "      <td>6011.76</td>\n",
       "      <td>4390.3665</td>\n",
       "      <td>12</td>\n",
       "      <td>Furniture</td>\n",
       "      <td>Chairs &amp; Chairmats</td>\n",
       "      <td>Credit Card</td>\n",
       "    </tr>\n",
       "  </tbody>\n",
       "</table>\n",
       "</div>"
      ],
      "text/plain": [
       "   CustomerID   Amount     Profit  Quantity ordered new Product Category  \\\n",
       "0        4666    11.36     4.5600                     4  Office Supplies   \n",
       "1        4663  6011.76  4390.3665                    12        Furniture   \n",
       "\n",
       "  Product Sub-Category Payment Mode  \n",
       "0  Pens & Art Supplies  Credit Card  \n",
       "1   Chairs & Chairmats  Credit Card  "
      ]
     },
     "execution_count": 43,
     "metadata": {},
     "output_type": "execute_result"
    }
   ],
   "source": [
    "orders.head(2)"
   ]
  },
  {
   "cell_type": "code",
   "execution_count": 48,
   "id": "31a5e272-fcc7-4f38-b961-4f37e11d15e2",
   "metadata": {},
   "outputs": [
    {
     "data": {
      "text/plain": [
       "(24, 24)"
      ]
     },
     "execution_count": 48,
     "metadata": {},
     "output_type": "execute_result"
    }
   ],
   "source": [
    "len(customer['CustomerID.1']) , len(customer['CustomerID.1'].unique())"
   ]
  },
  {
   "cell_type": "code",
   "execution_count": 49,
   "id": "c94bf19b-2800-48d7-9591-a4e3be764554",
   "metadata": {},
   "outputs": [],
   "source": [
    "# We have all unique customers in customer dataset"
   ]
  },
  {
   "cell_type": "code",
   "execution_count": 50,
   "id": "23e0a701-3625-450b-8ba8-1db2812a154b",
   "metadata": {},
   "outputs": [],
   "source": [
    "# Renaming a column name \n",
    "customer = customer.rename(columns={'CustomerID.1':'CustomerID'})"
   ]
  },
  {
   "cell_type": "code",
   "execution_count": 51,
   "id": "d754cee7-6a4d-4407-ab7f-a8ef13574cb9",
   "metadata": {},
   "outputs": [
    {
     "data": {
      "text/html": [
       "<div>\n",
       "<style scoped>\n",
       "    .dataframe tbody tr th:only-of-type {\n",
       "        vertical-align: middle;\n",
       "    }\n",
       "\n",
       "    .dataframe tbody tr th {\n",
       "        vertical-align: top;\n",
       "    }\n",
       "\n",
       "    .dataframe thead th {\n",
       "        text-align: right;\n",
       "    }\n",
       "</style>\n",
       "<table border=\"1\" class=\"dataframe\">\n",
       "  <thead>\n",
       "    <tr style=\"text-align: right;\">\n",
       "      <th></th>\n",
       "      <th>CustomerID</th>\n",
       "      <th>Order Date</th>\n",
       "      <th>Customer Name</th>\n",
       "      <th>State or Province</th>\n",
       "      <th>City</th>\n",
       "      <th>Gender</th>\n",
       "    </tr>\n",
       "  </thead>\n",
       "  <tbody>\n",
       "    <tr>\n",
       "      <th>0</th>\n",
       "      <td>7253</td>\n",
       "      <td>2015-01-07</td>\n",
       "      <td>Bonnie Potter</td>\n",
       "      <td>Washington</td>\n",
       "      <td>Anacortes</td>\n",
       "      <td>M</td>\n",
       "    </tr>\n",
       "    <tr>\n",
       "      <th>1</th>\n",
       "      <td>4875</td>\n",
       "      <td>2015-06-13</td>\n",
       "      <td>Ronnie Proctor</td>\n",
       "      <td>California</td>\n",
       "      <td>San Gabriel</td>\n",
       "      <td>F</td>\n",
       "    </tr>\n",
       "  </tbody>\n",
       "</table>\n",
       "</div>"
      ],
      "text/plain": [
       "   CustomerID Order Date   Customer Name State or Province         City Gender\n",
       "0        7253 2015-01-07   Bonnie Potter        Washington    Anacortes      M\n",
       "1        4875 2015-06-13  Ronnie Proctor        California  San Gabriel      F"
      ]
     },
     "execution_count": 51,
     "metadata": {},
     "output_type": "execute_result"
    }
   ],
   "source": [
    "customer.head(2)"
   ]
  },
  {
   "cell_type": "code",
   "execution_count": 52,
   "id": "d6fdd250-34bf-4d22-849d-797833903c5c",
   "metadata": {},
   "outputs": [],
   "source": [
    "# we are merging customer and orders data together\n",
    "df = pd.merge(customer,orders,on='CustomerID')"
   ]
  },
  {
   "cell_type": "code",
   "execution_count": 53,
   "id": "77ff429d-b7c4-4316-bca6-90daa60402b1",
   "metadata": {},
   "outputs": [
    {
     "data": {
      "text/plain": [
       "(1952, 12)"
      ]
     },
     "execution_count": 53,
     "metadata": {},
     "output_type": "execute_result"
    }
   ],
   "source": [
    "df.shape"
   ]
  },
  {
   "cell_type": "code",
   "execution_count": 54,
   "id": "08e74fef-b802-4b20-9f12-af9f46d7046a",
   "metadata": {},
   "outputs": [
    {
     "data": {
      "text/html": [
       "<div>\n",
       "<style scoped>\n",
       "    .dataframe tbody tr th:only-of-type {\n",
       "        vertical-align: middle;\n",
       "    }\n",
       "\n",
       "    .dataframe tbody tr th {\n",
       "        vertical-align: top;\n",
       "    }\n",
       "\n",
       "    .dataframe thead th {\n",
       "        text-align: right;\n",
       "    }\n",
       "</style>\n",
       "<table border=\"1\" class=\"dataframe\">\n",
       "  <thead>\n",
       "    <tr style=\"text-align: right;\">\n",
       "      <th></th>\n",
       "      <th>CustomerID</th>\n",
       "      <th>Order Date</th>\n",
       "      <th>Customer Name</th>\n",
       "      <th>State or Province</th>\n",
       "      <th>City</th>\n",
       "      <th>Gender</th>\n",
       "      <th>Amount</th>\n",
       "      <th>Profit</th>\n",
       "      <th>Quantity ordered new</th>\n",
       "      <th>Product Category</th>\n",
       "      <th>Product Sub-Category</th>\n",
       "      <th>Payment Mode</th>\n",
       "    </tr>\n",
       "  </thead>\n",
       "  <tbody>\n",
       "    <tr>\n",
       "      <th>0</th>\n",
       "      <td>4666</td>\n",
       "      <td>2015-05-12</td>\n",
       "      <td>Gwendolyn F Tyson</td>\n",
       "      <td>Minnesota</td>\n",
       "      <td>Prior Lake</td>\n",
       "      <td>M</td>\n",
       "      <td>11.36</td>\n",
       "      <td>4.560000</td>\n",
       "      <td>4</td>\n",
       "      <td>Office Supplies</td>\n",
       "      <td>Pens &amp; Art Supplies</td>\n",
       "      <td>Credit Card</td>\n",
       "    </tr>\n",
       "    <tr>\n",
       "      <th>1</th>\n",
       "      <td>4666</td>\n",
       "      <td>2015-05-12</td>\n",
       "      <td>Gwendolyn F Tyson</td>\n",
       "      <td>Minnesota</td>\n",
       "      <td>Prior Lake</td>\n",
       "      <td>M</td>\n",
       "      <td>94.27</td>\n",
       "      <td>105.678000</td>\n",
       "      <td>11</td>\n",
       "      <td>Office Supplies</td>\n",
       "      <td>Scissors, Rulers and Trimmers</td>\n",
       "      <td>Credit Card</td>\n",
       "    </tr>\n",
       "    <tr>\n",
       "      <th>2</th>\n",
       "      <td>4666</td>\n",
       "      <td>2015-05-12</td>\n",
       "      <td>Gwendolyn F Tyson</td>\n",
       "      <td>Minnesota</td>\n",
       "      <td>Prior Lake</td>\n",
       "      <td>M</td>\n",
       "      <td>285.84</td>\n",
       "      <td>-2177.986096</td>\n",
       "      <td>9</td>\n",
       "      <td>Furniture</td>\n",
       "      <td>Tables</td>\n",
       "      <td>Credit Card</td>\n",
       "    </tr>\n",
       "  </tbody>\n",
       "</table>\n",
       "</div>"
      ],
      "text/plain": [
       "   CustomerID Order Date      Customer Name State or Province        City  \\\n",
       "0        4666 2015-05-12  Gwendolyn F Tyson         Minnesota  Prior Lake   \n",
       "1        4666 2015-05-12  Gwendolyn F Tyson         Minnesota  Prior Lake   \n",
       "2        4666 2015-05-12  Gwendolyn F Tyson         Minnesota  Prior Lake   \n",
       "\n",
       "  Gender  Amount       Profit  Quantity ordered new Product Category  \\\n",
       "0      M   11.36     4.560000                     4  Office Supplies   \n",
       "1      M   94.27   105.678000                    11  Office Supplies   \n",
       "2      M  285.84 -2177.986096                     9        Furniture   \n",
       "\n",
       "            Product Sub-Category Payment Mode  \n",
       "0            Pens & Art Supplies  Credit Card  \n",
       "1  Scissors, Rulers and Trimmers  Credit Card  \n",
       "2                         Tables  Credit Card  "
      ]
     },
     "execution_count": 54,
     "metadata": {},
     "output_type": "execute_result"
    }
   ],
   "source": [
    "df.head(3)"
   ]
  },
  {
   "cell_type": "code",
   "execution_count": 55,
   "id": "9b801635-5ecd-4e67-b2cf-d5c190edd3ac",
   "metadata": {},
   "outputs": [
    {
     "data": {
      "text/html": [
       "<div>\n",
       "<style scoped>\n",
       "    .dataframe tbody tr th:only-of-type {\n",
       "        vertical-align: middle;\n",
       "    }\n",
       "\n",
       "    .dataframe tbody tr th {\n",
       "        vertical-align: top;\n",
       "    }\n",
       "\n",
       "    .dataframe thead th {\n",
       "        text-align: right;\n",
       "    }\n",
       "</style>\n",
       "<table border=\"1\" class=\"dataframe\">\n",
       "  <thead>\n",
       "    <tr style=\"text-align: right;\">\n",
       "      <th></th>\n",
       "      <th>State or Province</th>\n",
       "      <th>Profit</th>\n",
       "    </tr>\n",
       "  </thead>\n",
       "  <tbody>\n",
       "    <tr>\n",
       "      <th>0</th>\n",
       "      <td>California</td>\n",
       "      <td>31886.448316</td>\n",
       "    </tr>\n",
       "    <tr>\n",
       "      <th>1</th>\n",
       "      <td>Minnesota</td>\n",
       "      <td>34330.365504</td>\n",
       "    </tr>\n",
       "    <tr>\n",
       "      <th>2</th>\n",
       "      <td>Montana</td>\n",
       "      <td>15291.345669</td>\n",
       "    </tr>\n",
       "    <tr>\n",
       "      <th>3</th>\n",
       "      <td>New York</td>\n",
       "      <td>98143.568974</td>\n",
       "    </tr>\n",
       "    <tr>\n",
       "      <th>4</th>\n",
       "      <td>Oregon</td>\n",
       "      <td>44462.913374</td>\n",
       "    </tr>\n",
       "  </tbody>\n",
       "</table>\n",
       "</div>"
      ],
      "text/plain": [
       "  State or Province        Profit\n",
       "0        California  31886.448316\n",
       "1         Minnesota  34330.365504\n",
       "2           Montana  15291.345669\n",
       "3          New York  98143.568974\n",
       "4            Oregon  44462.913374"
      ]
     },
     "execution_count": 55,
     "metadata": {},
     "output_type": "execute_result"
    }
   ],
   "source": [
    "df.groupby(['State or Province']).agg({'Profit':'sum'}).reset_index()"
   ]
  }
 ],
 "metadata": {
  "kernelspec": {
   "display_name": "Python 3 (ipykernel)",
   "language": "python",
   "name": "python3"
  },
  "language_info": {
   "codemirror_mode": {
    "name": "ipython",
    "version": 3
   },
   "file_extension": ".py",
   "mimetype": "text/x-python",
   "name": "python",
   "nbconvert_exporter": "python",
   "pygments_lexer": "ipython3",
   "version": "3.12.1"
  }
 },
 "nbformat": 4,
 "nbformat_minor": 5
}
